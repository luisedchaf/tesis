{
  "nbformat": 4,
  "nbformat_minor": 0,
  "metadata": {
    "colab": {
      "name": "Control MPC con SQL",
      "provenance": [],
      "collapsed_sections": [],
      "mount_file_id": "1XY0qnO-3mXuFZhsz49j5UuBiLm_T9d_c",
      "authorship_tag": "ABX9TyOqwS0PWsKW0KwipyuGjkm7",
      "include_colab_link": true
    },
    "kernelspec": {
      "name": "python3",
      "display_name": "Python 3"
    },
    "language_info": {
      "name": "python"
    }
  },
  "cells": [
    {
      "cell_type": "markdown",
      "metadata": {
        "id": "view-in-github",
        "colab_type": "text"
      },
      "source": [
        "<a href=\"https://colab.research.google.com/github/luisedchaf/tesis/blob/main/Control_MPC_con_SQL_V2.ipynb\" target=\"_parent\"><img src=\"https://colab.research.google.com/assets/colab-badge.svg\" alt=\"Open In Colab\"/></a>"
      ]
    },
    {
      "cell_type": "markdown",
      "metadata": {
        "id": "K-kNXhjkbhso"
      },
      "source": [
        "# Código de control MPC para fertirriego \n",
        "*Luis Eduardo Chamorro*\n",
        "\n",
        "\n",
        "\n",
        "10/03/2022"
      ]
    },
    {
      "cell_type": "markdown",
      "metadata": {
        "id": "Sgplkfvshfbq"
      },
      "source": [
        "## Libraries"
      ]
    },
    {
      "cell_type": "code",
      "metadata": {
        "colab": {
          "base_uri": "https://localhost:8080/"
        },
        "id": "RUKACXY-Bvs4",
        "outputId": "64ded0b1-cbdc-4618-9da1-abf827f0d00f"
      },
      "source": [
        "!pip install qpsolvers\n",
        "!pip install psycopg2"
      ],
      "execution_count": 32,
      "outputs": [
        {
          "output_type": "stream",
          "name": "stdout",
          "text": [
            "Requirement already satisfied: qpsolvers in /usr/local/lib/python3.7/dist-packages (1.8.1)\n",
            "Requirement already satisfied: quadprog>=0.1.8 in /usr/local/lib/python3.7/dist-packages (from qpsolvers) (0.1.11)\n",
            "Requirement already satisfied: scipy>=1.2.0 in /usr/local/lib/python3.7/dist-packages (from qpsolvers) (1.4.1)\n",
            "Requirement already satisfied: numpy in /usr/local/lib/python3.7/dist-packages (from quadprog>=0.1.8->qpsolvers) (1.21.5)\n",
            "Requirement already satisfied: psycopg2 in /usr/local/lib/python3.7/dist-packages (2.7.6.1)\n"
          ]
        }
      ]
    },
    {
      "cell_type": "code",
      "metadata": {
        "id": "425Vw5EJhlB4"
      },
      "source": [
        "# Import libraries\n",
        "import statistics\n",
        "import math                       # Para funciones matemáticas\n",
        "import pandas as pd               # Para manejo y análisis de estructura de datos\n",
        "import numpy as np                # Cálculo numérico y el análisis de datos\n",
        "import matplotlib.pyplot as plt   # Para gráficas\n",
        "from cvxopt import matrix, solvers\n",
        "from qpsolvers import solve_qp\n",
        "import scipy.sparse as spa\n",
        "import osqp\n",
        "from scipy import linalg as la\n",
        "import psycopg2 \n",
        "from datetime import datetime, timedelta\n",
        "#pip install quadprog\n",
        "#import pdb"
      ],
      "execution_count": 34,
      "outputs": []
    },
    {
      "cell_type": "markdown",
      "metadata": {
        "id": "7WlA0H5_CM6z"
      },
      "source": [
        "# Query Database Functions"
      ]
    },
    {
      "cell_type": "code",
      "metadata": {
        "id": "_HXAa8DHCUF2"
      },
      "source": [
        "def run_query(query=''):\n",
        "  DB_HOST = '192.68.185.26' \n",
        "  DB_USER = 'inv_luis_eduardo' \n",
        "  DB_PASS = '12345678*aA' \n",
        "  DB_NAME = 'cafiot' \n",
        "  conexion = psycopg2.connect(host=DB_HOST, database=DB_NAME, user=DB_USER, password=DB_PASS)\n",
        "  df = pd.read_sql(query,conexion)  # data frame\n",
        "  conexion.close()\n",
        "  return df"
      ],
      "execution_count": 35,
      "outputs": []
    },
    {
      "cell_type": "markdown",
      "metadata": {
        "id": "WSrGyFWEC9GV"
      },
      "source": [
        "## Sensor query"
      ]
    },
    {
      "cell_type": "code",
      "metadata": {
        "id": "KcM1i8A3GCdJ"
      },
      "source": [
        "# Code to query the sensors to the database.\n",
        "# Host in \"DATA\".\n",
        "def consulta(year,month,day,hour1,hour2,minute,sensor):\n",
        "  consulta = \"\"\"\n",
        "  SELECT valor1, fecha, topic, s.nombre, key, observacion, color, valor_max, valor_min, tm.nombre, um.nombre\n",
        "  FROM mediciones AS m \n",
        "  INNER JOIN sensores AS s\n",
        "  ON s.id = m.id_sensor \n",
        "  INNER JOIN tipos_mediciones AS tm \n",
        "  ON tm.id = s.id_tipo_medicion\n",
        "  INNER JOIN unidades_medidas AS um \n",
        "  ON tm.id_und_medida = um.id\n",
        "  WHERE key = '{sensor}' -- Temperatura --TMAX TMIN TMED\n",
        "  AND fecha BETWEEN '{year}/{month}/{day} {hour2}:{minute}:00' AND '{year}/{month}/{day} {hour1}:{minute}:00'\n",
        "  \"\"\".format(year=year,month=month,day=day,hour1=hour1,minute=minute,hour2=hour2,sensor=sensor)\n",
        "  DATA = run_query(consulta)\n",
        "  return DATA"
      ],
      "execution_count": 36,
      "outputs": []
    },
    {
      "cell_type": "code",
      "metadata": {
        "id": "_xCy2_F4Ic6J"
      },
      "source": [
        "# consult one hour before\n",
        "now=datetime.now()\n",
        "now = now-timedelta(hours=5)\n",
        "now2 = now-timedelta(hours=1)\n",
        "year = now.year\n",
        "month = now.month\n",
        "day = now.day\n",
        "hour1 = now.hour\n",
        "hour2 = now2.hour\n",
        "minute = now.minute"
      ],
      "execution_count": 37,
      "outputs": []
    },
    {
      "cell_type": "code",
      "source": [
        "#print(hour1)\n",
        "#print(hour2+0.5)"
      ],
      "metadata": {
        "colab": {
          "base_uri": "https://localhost:8080/"
        },
        "id": "vyouti0ljRl6",
        "outputId": "f289435a-868a-4531-db91-19af26b24ad2"
      },
      "execution_count": 38,
      "outputs": [
        {
          "output_type": "stream",
          "name": "stdout",
          "text": [
            "16\n",
            "15.5\n"
          ]
        }
      ]
    },
    {
      "cell_type": "code",
      "source": [
        "# Extract from DATA the temperature values\n",
        "sensor = 'c9478c82-081b-4cbc-b296-107b971d3a18'\n",
        "temp = consulta(year=year,month=month,day=day,hour1=hour1,minute=minute,hour2=hour2,sensor=sensor)\n",
        "temp_max = temp.valor1.max()\n",
        "temp_min = temp.valor1.min()\n",
        "temp_med = (temp_max+temp_min)/2\n",
        "#print('Temperatura min:{}\\nTemperatura Maxima:{}\\nTemperatura Media:{}'.format(temp_min,temp_max,temp_med))"
      ],
      "metadata": {
        "id": "1gfnh44pqXG2"
      },
      "execution_count": 39,
      "outputs": []
    },
    {
      "cell_type": "code",
      "source": [
        "# Extract from DATA the solar radiation values\n",
        "sensor_rad = '26547499-9f22-465e-abbb-fa1a4769aa04' #radiacion\n",
        "Radiation1 = consulta(year=year,month=month,day=day,hour1=hour1,minute=minute,hour2=hour2,sensor=sensor_rad) #consult the radiation on the previous hour\n",
        "Radiation = statistics.mean(Radiation1.valor1) # average radiation\n",
        "#print('Radiacion:{}'.format(Radiation))"
      ],
      "metadata": {
        "id": "E_XDP9wRdCLb",
        "colab": {
          "base_uri": "https://localhost:8080/"
        },
        "outputId": "046f0f86-cdf4-4bf8-ab43-e9ec472de31c"
      },
      "execution_count": 40,
      "outputs": [
        {
          "output_type": "stream",
          "name": "stdout",
          "text": [
            "Radiacion:380.0040404040404\n"
          ]
        }
      ]
    },
    {
      "cell_type": "code",
      "source": [
        "# Extract from DATA the wind speed values\n",
        "sensor_wind = '63005737-45c1-4f2f-8a46-9eadf77d2841'\n",
        "wind_sp = consulta(year=year,month=month,day=day,hour1=hour1,minute=minute,hour2=hour2,sensor=sensor_wind)\n",
        "wind_avg = wind_sp.valor1.mean()\n",
        "#print('Wind:{}'.format(wind_avg))"
      ],
      "metadata": {
        "colab": {
          "base_uri": "https://localhost:8080/"
        },
        "id": "UBnE2ynosdK4",
        "outputId": "5bd430c8-b52d-46ff-d913-a63cc88a8d75"
      },
      "execution_count": 41,
      "outputs": [
        {
          "output_type": "stream",
          "name": "stdout",
          "text": [
            "Wind:1.6047297297297298\n"
          ]
        }
      ]
    },
    {
      "cell_type": "code",
      "source": [
        "# Extract from DATA the ambient humidity values\n",
        "sensor_hum = '93afd49e-9e22-4388-ba1c-126708d88820'\n",
        "humidity = consulta(year=year,month=month,day=day,hour1=hour1,minute=minute,hour2=hour2,sensor=sensor_hum)\n",
        "humidity_avg = humidity.valor1.mean()\n",
        "#print('Humidity:{}'.format(humidity_avg))\n"
      ],
      "metadata": {
        "colab": {
          "base_uri": "https://localhost:8080/"
        },
        "id": "bQqykGr9mExL",
        "outputId": "68e38db0-15b6-4807-cf85-db197071fb9f"
      },
      "execution_count": 42,
      "outputs": [
        {
          "output_type": "stream",
          "name": "stdout",
          "text": [
            "Humidity:87.51414141414145\n"
          ]
        }
      ]
    },
    {
      "cell_type": "code",
      "metadata": {
        "id": "GV9r6sOICaeQ",
        "colab": {
          "base_uri": "https://localhost:8080/"
        },
        "outputId": "5aa8ec41-9f0d-4703-a9eb-dfd34322d424"
      },
      "source": [
        "# Julian day\n",
        "day_of_year = datetime.now().timetuple().tm_yday\n",
        "#print(day_of_year)"
      ],
      "execution_count": 43,
      "outputs": [
        {
          "output_type": "stream",
          "name": "stdout",
          "text": [
            "83\n"
          ]
        }
      ]
    },
    {
      "cell_type": "markdown",
      "metadata": {
        "id": "mGzeBwcyhsy6"
      },
      "source": [
        "## ETo_Penman"
      ]
    },
    {
      "cell_type": "markdown",
      "metadata": {
        "id": "0DFzV9ipMnbk"
      },
      "source": [
        "### climatological data hosted on drive"
      ]
    },
    {
      "cell_type": "markdown",
      "source": [
        "**Climatological data hosted on Cafiot**"
      ],
      "metadata": {
        "id": "-YoPGHchvSuL"
      }
    },
    {
      "cell_type": "code",
      "source": [
        "z          = 2200             # Elevation above sea level\n",
        "J          = day_of_year      # Julian day\n",
        "lat        = 1+(21/60)        # Latitude\n",
        "long       = -77.29086111     # longitude\n",
        "t1         = hour2+0.5        # standard hour \n",
        "TMAX       = temp_max         # maximum temperature\n",
        "TMIN       = temp_min         # minimum temperature\n",
        "TMED       = temp_med         # mean temperature\n",
        "RAD_SOL    = Radiation**0.0864 # Solar Radiation\n",
        "VEL_VIENTO = wind_avg          # wind speed\n",
        "HR_MED     = humidity_avg      # mean humidity"
      ],
      "metadata": {
        "id": "EOJvMuYHvo2i"
      },
      "execution_count": 45,
      "outputs": []
    },
    {
      "cell_type": "markdown",
      "metadata": {
        "id": "CFriCIDNimN4"
      },
      "source": [
        "### Parameters ETo"
      ]
    },
    {
      "cell_type": "code",
      "metadata": {
        "id": "sAPGzgYsT2lu"
      },
      "source": [
        "Delta = (4098*(0.6108*np.exp(17.27*TMED/(TMED+237.3)))/(TMED+237.3)**2)         \n",
        "P = 101.3*((293-0.0065*z)/293)**5.26\n",
        "Cp = 1.01*(10**-3)\n",
        "E  = 0.622 \n",
        "lambd_a = 2.45\n",
        "Upsilon = (Cp*P)/(E*lambd_a)\n",
        "P_Ahr = 1+0.34*VEL_VIENTO\n",
        "P_Bhr = Delta/(Delta+Upsilon*P_Ahr)\n",
        "P_Chr = Upsilon/(Delta+Upsilon*P_Ahr)\n",
        "P_Dhr = (900/(TMED+273))*VEL_VIENTO\n",
        "# Parameter E\n",
        "# Vapor saturation pressure at maximum air temperature.\n",
        "e_0Tmax=(0.6108*math.exp((17.27*TMAX)/(TMAX+237.3)))\n",
        "# Vapor saturation pressure at minimum air temperature\n",
        "e_0Tmin=(0.6108*math.exp((17.27*TMIN)/(TMIN+237.3)))\n",
        "# Mean saturation vapor pressure\n",
        "e_s = (e_0Tmax+e_0Tmin)/2\n",
        "# Vapor saturation pressure at mean air temperature\n",
        "e0_Tmedhr = 0.6108*np.exp((17.27*TMED)/(TMED+237.3)) \n",
        "# Actual vapor pressure\n",
        "eahr = (HR_MED/100)*e0_Tmedhr\n",
        "# Parameter E\n",
        "P_Ehr = (eshr-eahr)\n",
        "\n",
        "# Parameter F\n",
        "# Relative distance to the sun inverse Earth\n",
        "dr = 1+0.033*math.cos(((2*math.pi)/365)*J)\n",
        "# Solar Declination\n",
        "ds = 0.409*math.sin((2*math.pi/365)*J-1.39)\n",
        "\n",
        "# Calculation of extraterrestrial radiation per hour (Ra)\n",
        "\n",
        "# Solar constant\n",
        "Gsc = 0.082\n",
        "# Latitude in Radians\n",
        "lat_rad = (math.pi/180)*lat\n",
        "\n",
        "# Seasonal Correction\n",
        "b = 2*math.pi*((J-81)/364)\n",
        "Sc = 0.1645*math.sin(2*b)-0.1255*math.cos(b)-0.025*math.sin(b)\n",
        "# Solar angle\n",
        "w = (math.pi/12)*((t1+0.06667)*((75-77)+Sc)-12)\n",
        "# Solar radiation angles at the beginning and at the end of the day\n",
        "w1 =(w-(math.pi/24))\n",
        "w2 =(w+(math.pi/24))\n",
        "# Ra\n",
        "Ra = (((12*60/math.pi)*Gsc*dr*((w2-w1)*math.sin(lat_rad)*math.sin(ds)+math.cos(lat_rad)*math.cos(ds)*(math.sin(w2)-math.sin(w1)))))\n",
        "# Solar radiation on a clear day (Rso)\n",
        "Rso = (0.75 + 2*10**-5*z)*Ra\n",
        "# Net solar or shortwave radiation (Rns)\n",
        "Rns = 0.77*RAD_SOL\n",
        "# Net longwave radiation (Rnl)\n",
        "Rs = RAD_SOL                   \n",
        "Rnl = 4.903*10**-9*(((TMAX)**4 + (TMIN)**4)/2)*(0.34-0.14*math.sqrt(eahr))*(1.35*(Rs/Rso)-0.35) \n",
        "P_Fhr = Rns-Rnl\n",
        "\n",
        "#Parameter G  \n",
        "P_Ghr = 0.5*P_Fhr\n",
        "\n",
        "#Penman Monteith Application\n",
        "ETo = ((0.408*Delta)*(P_Fhr-P_Ghr)+lambd_a*P_Dhr*P_Ehr)/(Delta+lambd_a*P_Ahr)"
      ],
      "execution_count": 93,
      "outputs": []
    },
    {
      "cell_type": "markdown",
      "metadata": {
        "id": "qFo-u1ffkU8r"
      },
      "source": [
        "# CONTROL MPC"
      ]
    },
    {
      "cell_type": "markdown",
      "metadata": {
        "id": "4_kqcQx8MIJF"
      },
      "source": [
        "### Parameters"
      ]
    },
    {
      "cell_type": "code",
      "metadata": {
        "id": "EmUqjGFwkZAY"
      },
      "source": [
        "# Parameters\n",
        "c1 = 0.05 \n",
        "c2 = 0.4  \n",
        "c3 = 1.2  \n",
        "c4 = 1   \n",
        "tm = 60/(60*24)   \n",
        "Da = 0.57\n",
        "h  = 30 "
      ],
      "execution_count": 97,
      "outputs": []
    },
    {
      "cell_type": "markdown",
      "metadata": {
        "id": "sofag9WFMQfa"
      },
      "source": [
        "### state space with 2 states"
      ]
    },
    {
      "cell_type": "code",
      "metadata": {
        "id": "9Lig95cmkn8Y"
      },
      "source": [
        "A=np.matrix([[1-tm*(c1+c2),c2*tm],[tm*c2,1-tm*(c1+c2)]])  # state matrix\n",
        "B=tm*2.4*np.diag([1,1])                                   # input matrix\n",
        "E=(tm/10)*np.matrix([[-c3,c4],[-c3,c4]])                  # disturbance matrix\n",
        "C=np.identity(2)                                          # output matrix"
      ],
      "execution_count": 98,
      "outputs": []
    },
    {
      "cell_type": "markdown",
      "metadata": {
        "id": "D-IT9qWIMV36"
      },
      "source": [
        "### Initial conditions"
      ]
    },
    {
      "cell_type": "code",
      "metadata": {
        "id": "FyyzNGvdlG2C"
      },
      "source": [
        "x=np.array([[380],[320]])\n",
        "u=np.array([[0],[0]])\n",
        "Eto = ETo\n",
        "dis=np.matrix(np.array([[Eto],[Rtot]])) \n",
        "X=x"
      ],
      "execution_count": null,
      "outputs": []
    },
    {
      "cell_type": "code",
      "metadata": {
        "id": "jhmcQ5dgl-ct"
      },
      "source": [
        "# Generación de matrices para el problema QP \n",
        "N=2 # Horizonte de predicción\n",
        "# Q para pesar los estados\n",
        "Q=np.array([[100,0],[0,100]])\n",
        "R=np.array([[91,0],[0,91]])\n",
        "P = la.solve_discrete_are(A, B, Q, R)   #Riccati"
      ],
      "execution_count": 99,
      "outputs": []
    },
    {
      "cell_type": "markdown",
      "metadata": {
        "id": "d52UmMQNK-HV"
      },
      "source": [
        "### Sistem Constrains"
      ]
    },
    {
      "cell_type": "code",
      "metadata": {
        "id": "jJ6Uk2syKF5_"
      },
      "source": [
        "# Restricciones\n",
        "vmax=np.array([1000,1000,420,420,10*tm,10*tm])  # (Hmax1, Hmax2, umax1, umax2, dumax1, dumax2)  \n",
        "vmin=np.array([0,0,0,0,-10*tm,-10*tm])          # (Hmin1, Hmin2, umin1, umin2, dumin1, dumin2)\n",
        "ic0 =np.array([2,1,1/2])                        #  order of vmax and vmin inputs"
      ],
      "execution_count": 100,
      "outputs": []
    },
    {
      "cell_type": "markdown",
      "metadata": {
        "id": "g7xEo1_bWqd4"
      },
      "source": [
        "### QP Matrices Function"
      ]
    },
    {
      "cell_type": "code",
      "metadata": {
        "id": "PYqBQe3bQTaY"
      },
      "source": [
        "def QP_matrices_curso(A,B,C,N,Q,R,P,vmin,vmax,ic0):    # Ok\n",
        "  n =np.shape(B)[0]\n",
        "  m =np.shape(B)[1]\n",
        "  E=B\n",
        "  dmax=0\n",
        "  dmin=0\n",
        "  e=np.shape(E)[0]   \n",
        "  M=N\n",
        "  \n",
        "  DeltaM = []\n",
        "  for i in range(len(vmax)):\n",
        "      DeltaM=np.append(DeltaM,np.kron(np.ones(N),vmax[i]), axis=0)\n",
        "  Deltam =[]\n",
        "  for i in range(len(vmin)):\n",
        "      Deltam=np.append(Deltam,np.kron(np.ones(N),vmin[i]), axis=0)\n",
        "  \n",
        "  # max and min of the perturbation d\n",
        "  dmax = np.kron(np.ones(M),dmax)\n",
        "  dmin = np.kron(np.ones(M),dmin)\n",
        "  \n",
        "  [H,F,Fd,Gamma,Ommega,Phi,Psi]=RHCmatrices(A,B,C,E,P,Q,R,N,N)\n",
        "  CC = np.kron(np.diag(np.ones(M)),C)\n",
        "  phic=[]\n",
        "  L=[]\n",
        "  Lc=[]\n",
        "  Lu=[]\n",
        "  DeltaMc=[]\n",
        "  Deltamc=[]\n",
        " \n",
        "  for i in range(len(ic0)):\n",
        "    ic=ic0[i]    \n",
        "    #######################################################  \n",
        "    if ic==1:                       #input constraints\n",
        "      phi = np.identity(M*m)\n",
        "      L = np.zeros((M*m,n))\n",
        "      rho = np.zeros((M*m,M*e))       #JZF\n",
        "    #########################################################\n",
        "    if ic==2:                      #state constraints (JZF)\n",
        "        phi = Gamma\n",
        "        L = Ommega\n",
        "        if len(Phi)==0:\n",
        "          DeltaM = DeltaM\n",
        "          Deltam = Deltam\n",
        "        else:\n",
        "          rho=[]\n",
        "    ###############################################\n",
        "    \n",
        "    if ic==0:                       #output constraints\n",
        "      phi = CC*Gamma[0:M*n,0:M*m]\n",
        "      L = CC*Ommega[0:M*n,:]\n",
        "      if len(Phi)==0:\n",
        "        DeltaM = DeltaM\n",
        "        Deltam = Deltam\n",
        "      else:\n",
        "        rho=[]\n",
        "    ###################################################\n",
        "    if ic==1/2:                                       #rate constraints  ATTENTION it has to be executed at the end\n",
        "        D1 = np.zeros((M,1))\n",
        "        D1[0] = 1\n",
        "        D1 = np.kron(D1,np.identity(m))\n",
        "        D2 = np.zeros((M*m,M*m))\n",
        "        D2[m:M*m,0:(M*m-m)] = np.kron(np.identity(M-1),np.identity(m))\n",
        "        phi = np.identity(M*m)-D2\n",
        "        L = np.zeros((M*m,n))        \n",
        "        Lu = np.append((np.zeros((len(phic),m))), -D1, axis=0)        \n",
        "        F = np.append(np.zeros((M*m,m)),F,axis=1)           \n",
        "      #####################################################\n",
        "    if len(phic)==0:\n",
        "      phic=phi\n",
        "    else:   \n",
        "      phic = np.append(phic, phi,axis=0)    \n",
        "    if len(Lc)==0:\n",
        "      Lc = L\n",
        "    else:\n",
        "      Lc = np.append(Lc, L, axis=0)        \n",
        "  Lc = np.append(Lu, Lc, axis = 1)  \n",
        "  return (H,F,Fd,phic,Lc,Deltam,DeltaM)"
      ],
      "execution_count": null,
      "outputs": []
    },
    {
      "cell_type": "markdown",
      "metadata": {
        "id": "hw9fcqbPWxZt"
      },
      "source": [
        "### RHC matrices"
      ]
    },
    {
      "cell_type": "code",
      "metadata": {
        "id": "DDJ0FTR3WN8g"
      },
      "source": [
        "def RHCmatrices(A,B,C,E,P,q,r,N,M):      # Ok\n",
        "  nx = np.shape(B)[0]\n",
        "  nx = np.shape(B)[1]\n",
        "  e=np.shape(E)[0]\n",
        "  \n",
        "  #luisRH = Eqp\n",
        "  #Definition of the matrices\n",
        "  Ommega = A\n",
        "  for i in range(2,M+1):\n",
        "    Ommega = np.append(Ommega,A**i,axis=0)\n",
        "  \n",
        "\n",
        "  gamma = np.zeros((M,M)) + np.diag(np.ones(M-1),k=-1)\n",
        "  gamma = np.kron(gamma,np.identity(nx))\n",
        "  Gamma = gamma*Ommega\n",
        "  \n",
        "  for i in range (2,M+1):\n",
        "    Gamma = np.append(Gamma, (np.linalg.matrix_power(gamma,i))*Ommega,axis=1)\n",
        "\n",
        "  Gamma = (Gamma+np.identity(M*nx))*np.kron(np.identity(M),B) \n",
        "\n",
        "  # Phi Matrix\n",
        "\n",
        "  if len(E)==0:\n",
        "    Phi = []\n",
        "\n",
        "  else:\n",
        "    phi = np.zeros(M) + np.diag(np.ones(M-1),k=-1)\n",
        "    phi = np.kron(phi,np.identity(nx))\n",
        "    Phi = phi*Ommega\n",
        "    for i in range(2,M+1):\n",
        "      Phi = np.append(Phi, (np.linalg.matrix_power(phi,i))*Ommega,axis=1)#Phi = np.append(Phi, (phi**i)*Ommega,axis=1)  \n",
        "       \n",
        "    Phi = (Phi + np.identity(M*nx))*np.kron(np.identity(M),E) # aquí es el error con matriz E\n",
        "  \n",
        "  # Psi Matrix\n",
        "  psi = np.zeros(M) + np.diag(np.ones(M-1),k=-1)\n",
        "  psi = np.kron(psi,np.identity(nx))\n",
        "  Psi = psi*Ommega\n",
        "  for i in range(2,M+1):\n",
        "    Psi = np.append(Psi, (np.linalg.matrix_power(psi,i))*Ommega,axis=1)  \n",
        "    #Psi = np.append(Psi, psi**i*Ommega,axis=1)               # Revisar el Resultado\n",
        "  \n",
        "  Psi = (Psi + np.identity(M*nx))*np.kron(np.identity(M),np.identity(np.size(A,1))) # Revisar el Resultado\n",
        "\n",
        "  # Q matrix\n",
        "  Q = np.kron(np.identity(M),q)\n",
        "\n",
        "  # P Matrix in Q\n",
        "\n",
        "  # Get Matrix Sizes \n",
        "  mq, sq = Q.shape\n",
        "  mp, sp = P.shape\n",
        "\n",
        "  # Assigning matrix portion\n",
        "  Q[mq-mp:mq , sq-sp:sq] = P\n",
        "  #Q(nx*N-len(P)+1:nx*N,nx*N-len(P)+1:nx*N) = P\n",
        "\n",
        "  # R Matrix\n",
        "  R = np.kron(np.identity(M),r)\n",
        "\n",
        "  # Matrices used in the u_opt explicit solution.\n",
        "  H = np.transpose(Gamma)*Q*Gamma+R                #Revisar \n",
        "  K1 = np.transpose(Gamma)*Q*Ommega\n",
        "  \n",
        "  if len(E)!=0:                                      # debe ir if len(E)~=1\n",
        "    K2 = np.transpose(Gamma)*Q*Phi\n",
        "  else:\n",
        "    K2=[]    \n",
        "  return (H,K1,K2,Gamma,Ommega,Phi,Psi)"
      ],
      "execution_count": null,
      "outputs": []
    },
    {
      "cell_type": "code",
      "metadata": {
        "id": "QFNQb3MRI3dE"
      },
      "source": [
        "[H,F,Fd,phic,Lc,Deltam,DeltaM]=QP_matrices_curso(A,B,C,N,Q,R,P,vmin,vmax,ic0)"
      ],
      "execution_count": null,
      "outputs": []
    },
    {
      "cell_type": "markdown",
      "metadata": {
        "id": "19HrIv4ZW6ok"
      },
      "source": [
        "### References"
      ]
    },
    {
      "cell_type": "code",
      "metadata": {
        "id": "KVuKqxy7umEN"
      },
      "source": [
        "# References\n",
        "\n",
        "us=np.array([[183.5],[146]])\n",
        "xs=np.matrix([[410],[380]])\n",
        "Us=np.kron(np.ones((N,1)),us)             # Vector de referencia constante para N instantes\n",
        "um1=us                                # Valor del control al instante -1\n",
        "x0=np.array([[380],[320]])            # Condiciones iniciales\n",
        "Xe0=np.append(um1,x0,axis=0)          # Condiciones iniciales extendida con du\n",
        "Xes=np.append([[0]],xs,axis=0)          # Vector de estados extendido por restricción du"
      ],
      "execution_count": null,
      "outputs": []
    },
    {
      "cell_type": "markdown",
      "metadata": {
        "id": "e4fbyUpYXBzO"
      },
      "source": [
        "### Quadprog"
      ]
    },
    {
      "cell_type": "code",
      "metadata": {
        "id": "1TuQXoa-0R_Y"
      },
      "source": [
        "def quadprog(P, q, G=None, h=None, A=None, b=None,\n",
        "             initvals=None, verbose=True):\n",
        "    l = -np.inf * np.ones(len(h))\n",
        "    if A is not None:\n",
        "        qp_A = spa.vstack([G, A]).tocsc()\n",
        "        qp_l = np.hstack([l, b])\n",
        "        qp_u = np.hstack([h, b])\n",
        "    else:  # no equality constraint\n",
        "        qp_A = G\n",
        "        qp_l = l\n",
        "        qp_u = h\n",
        "    model = osqp.OSQP()\n",
        "    model.setup(P=P, q=q,\n",
        "                A=qp_A, l=qp_l, u=qp_u, verbose=verbose)\n",
        "    if initvals is not None:\n",
        "        model.warm_start(x=initvals)\n",
        "    results = model.solve()\n",
        "    return results.x, results.info.status"
      ],
      "execution_count": null,
      "outputs": []
    },
    {
      "cell_type": "markdown",
      "metadata": {
        "id": "-WDmttyFKgAF"
      },
      "source": [
        "### Simulation"
      ]
    },
    {
      "cell_type": "code",
      "metadata": {
        "id": "zZOBLW2b5r4r"
      },
      "source": [
        "ts=11\n",
        "time=np.arange(0,ts,tm)\n",
        "fin = len(time)\n",
        "x=x0                       # Condiciones iniciales\n",
        "Xresultado=np.array(x0)\n",
        "Uresultado=np.array(um1)\n",
        "H1 = spa.csc_matrix(H)\n",
        "G1 = spa.csc_matrix(np.append(phic,-phic,axis=0))\n",
        "q0 = np.ones(4)\n",
        "\n",
        "\n",
        "for k in range(0,fin-1):\n",
        "  Xe0=np.append(um1,x,axis=0)                   # estados actuales y control pasado\n",
        "  Xes=np.append(us,xs,axis=0)\n",
        "  f=F*(Xe0-Xes)-H*Us\n",
        "  Uopt, xx=quadprog(H1,f,G1,np.append(DeltaM-np.ravel(Lc*Xe0), -Deltam+np.ravel(Lc*Xe0),axis=0), verbose=False)\n",
        "  u=np.transpose(np.matrix(Uopt[0:2]))          #simula el controlador     \n",
        "  xsig=A*x+B*u +E*dis[:,k]                      #simula proceso real\n",
        "  x=xsig\n",
        "  um1=u;                                        #control pasado\n",
        "  Xresultado=np.append(Xresultado, x, axis = 1) #registra resultados\n",
        "  Uresultado=np.append(Uresultado, u, axis = 1)\n",
        "  \n"
      ],
      "execution_count": null,
      "outputs": []
    },
    {
      "cell_type": "markdown",
      "metadata": {
        "id": "mDTRHU8RXIGh"
      },
      "source": [
        "### Figures"
      ]
    },
    {
      "cell_type": "code",
      "metadata": {
        "colab": {
          "base_uri": "https://localhost:8080/",
          "height": 265
        },
        "id": "A1wslXbQXMU2",
        "outputId": "cab1091a-67c3-423a-a7f6-7515d5589452"
      },
      "source": [
        "plt.plot(time, np.ravel(Uresultado[0,:]))\n",
        "plt.show()"
      ],
      "execution_count": null,
      "outputs": [
        {
          "output_type": "display_data",
          "data": {
            "image/png": "[encoded data removed]",
            "text/plain": [
              "<Figure size 432x288 with 1 Axes>"
            ]
          },
          "metadata": {
            "needs_background": "light"
          }
        }
      ]
    },
    {
      "cell_type": "code",
      "metadata": {
        "colab": {
          "base_uri": "https://localhost:8080/",
          "height": 265
        },
        "id": "fUP2ejGWXeXf",
        "outputId": "60a6f41f-bf02-4bb7-ce3a-10deae5a2ead"
      },
      "source": [
        "plt.plot(time, np.ravel(Xresultado[0,:]))\n",
        "plt.show()"
      ],
      "execution_count": null,
      "outputs": [
        {
          "output_type": "display_data",
          "data": {
            "image/png": "[encoded data removed]",
            "text/plain": [
              "<Figure size 432x288 with 1 Axes>"
            ]
          },
          "metadata": {
            "needs_background": "light"
          }
        }
      ]
    },
    {
      "cell_type": "code",
      "metadata": {
        "colab": {
          "base_uri": "https://localhost:8080/",
          "height": 294
        },
        "id": "mRi3PdlEZjny",
        "outputId": "1de5a0cb-10de-45b1-cf9f-b101f913712c"
      },
      "source": [
        "fig, axs = plt.subplots(2)\n",
        "fig.suptitle('Grafica zona 1')\n",
        "axs[0].plot(time, np.ravel(Uresultado[0,:]))\n",
        "axs[1].plot(time, np.ravel(Xresultado[0,:]))\n",
        "plt.show()"
      ],
      "execution_count": null,
      "outputs": [
        {
          "output_type": "display_data",
          "data": {
            "image/png": "[encoded data removed]",
            "text/plain": [
              "<Figure size 432x288 with 2 Axes>"
            ]
          },
          "metadata": {
            "needs_background": "light"
          }
        }
      ]
    }
  ]
}