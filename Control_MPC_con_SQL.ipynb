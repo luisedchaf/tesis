{
  "nbformat": 4,
  "nbformat_minor": 0,
  "metadata": {
    "colab": {
      "name": "Control MPC con SQL",
      "provenance": [],
      "collapsed_sections": [],
      "mount_file_id": "1XY0qnO-3mXuFZhsz49j5UuBiLm_T9d_c",
      "authorship_tag": "ABX9TyO3Ry8KW/b+D3sAtmp1MI4f",
      "include_colab_link": true
    },
    "kernelspec": {
      "name": "python3",
      "display_name": "Python 3"
    },
    "language_info": {
      "name": "python"
    }
  },
  "cells": [
    {
      "cell_type": "markdown",
      "metadata": {
        "id": "view-in-github",
        "colab_type": "text"
      },
      "source": [
        "<a href=\"https://colab.research.google.com/github/luisedchaf/tesis/blob/main/Control_MPC_con_SQL.ipynb\" target=\"_parent\"><img src=\"https://colab.research.google.com/assets/colab-badge.svg\" alt=\"Open In Colab\"/></a>"
      ]
    },
    {
      "cell_type": "markdown",
      "metadata": {
        "id": "K-kNXhjkbhso"
      },
      "source": [
        "# Código de control MPC para fertirriego \n",
        "*Luis Eduardo Chamorro*\n",
        "\n",
        "\n",
        "\n",
        "10/03/2022"
      ]
    },
    {
      "cell_type": "markdown",
      "metadata": {
        "id": "Sgplkfvshfbq"
      },
      "source": [
        "## Libraries"
      ]
    },
    {
      "cell_type": "code",
      "metadata": {
        "colab": {
          "base_uri": "https://localhost:8080/"
        },
        "id": "RUKACXY-Bvs4",
        "outputId": "83f9a054-6402-453c-d536-0de3187d5eca"
      },
      "source": [
        "!pip install qpsolvers\n",
        "!pip install psycopg2"
      ],
      "execution_count": 5,
      "outputs": [
        {
          "output_type": "stream",
          "name": "stdout",
          "text": [
            "Requirement already satisfied: qpsolvers in /usr/local/lib/python3.7/dist-packages (1.8.1)\n",
            "Requirement already satisfied: scipy>=1.2.0 in /usr/local/lib/python3.7/dist-packages (from qpsolvers) (1.4.1)\n",
            "Requirement already satisfied: quadprog>=0.1.8 in /usr/local/lib/python3.7/dist-packages (from qpsolvers) (0.1.11)\n",
            "Requirement already satisfied: numpy in /usr/local/lib/python3.7/dist-packages (from quadprog>=0.1.8->qpsolvers) (1.21.5)\n",
            "Requirement already satisfied: psycopg2 in /usr/local/lib/python3.7/dist-packages (2.7.6.1)\n"
          ]
        }
      ]
    },
    {
      "cell_type": "code",
      "metadata": {
        "id": "425Vw5EJhlB4",
        "colab": {
          "base_uri": "https://localhost:8080/"
        },
        "outputId": "fdcc0ae6-0869-41d7-b922-a9f88a69555e"
      },
      "source": [
        "# Import libraries\n",
        "import statistics\n",
        "import math                       # Para funciones matemáticas\n",
        "import pandas as pd               # Para manejo y análisis de estructura de datos\n",
        "import numpy as np                # Cálculo numérico y el análisis de datos\n",
        "import matplotlib.pyplot as plt   # Para gráficas\n",
        "from cvxopt import matrix, solvers\n",
        "from qpsolvers import solve_qp\n",
        "import scipy.sparse as spa\n",
        "import osqp\n",
        "from scipy import linalg as la\n",
        "import psycopg2 \n",
        "from datetime import datetime, timedelta\n",
        "#pip install quadprog\n",
        "#import pdb"
      ],
      "execution_count": 6,
      "outputs": [
        {
          "output_type": "stream",
          "name": "stderr",
          "text": [
            "/usr/local/lib/python3.7/dist-packages/psycopg2/__init__.py:144: UserWarning: The psycopg2 wheel package will be renamed from release 2.8; in order to keep installing from binary please use \"pip install psycopg2-binary\" instead. For details see: <http://initd.org/psycopg/docs/install.html#binary-install-from-pypi>.\n",
            "  \"\"\")\n"
          ]
        }
      ]
    },
    {
      "cell_type": "markdown",
      "metadata": {
        "id": "7WlA0H5_CM6z"
      },
      "source": [
        "# Query Database Functions"
      ]
    },
    {
      "cell_type": "code",
      "metadata": {
        "id": "_HXAa8DHCUF2"
      },
      "source": [
        "def run_query(query=''):\n",
        "  DB_HOST = '192.68.185.26' \n",
        "  DB_USER = 'inv_luis_eduardo' \n",
        "  DB_PASS = '12345678*aA' \n",
        "  DB_NAME = 'cafiot' \n",
        "  conexion = psycopg2.connect(host=DB_HOST, database=DB_NAME, user=DB_USER, password=DB_PASS)\n",
        "  df = pd.read_sql(query,conexion)  # data frame\n",
        "  conexion.close()\n",
        "  return df"
      ],
      "execution_count": 7,
      "outputs": []
    },
    {
      "cell_type": "markdown",
      "metadata": {
        "id": "WSrGyFWEC9GV"
      },
      "source": [
        "## Sensor query"
      ]
    },
    {
      "cell_type": "code",
      "metadata": {
        "id": "KcM1i8A3GCdJ"
      },
      "source": [
        "# Code to query the sensors to the database.\n",
        "# Host in \"DATA\".\n",
        "def consulta(year,month,day,hour1,hour2,minute,sensor):\n",
        "  consulta = \"\"\"\n",
        "  SELECT valor1, fecha, topic, s.nombre, key, observacion, color, valor_max, valor_min, tm.nombre, um.nombre\n",
        "  FROM mediciones AS m \n",
        "  INNER JOIN sensores AS s\n",
        "  ON s.id = m.id_sensor \n",
        "  INNER JOIN tipos_mediciones AS tm \n",
        "  ON tm.id = s.id_tipo_medicion\n",
        "  INNER JOIN unidades_medidas AS um \n",
        "  ON tm.id_und_medida = um.id\n",
        "  WHERE key = '{sensor}' -- Temperatura --TMAX TMIN TMED\n",
        "  AND fecha BETWEEN '{year}/{month}/{day} {hour2}:{minute}:00' AND '{year}/{month}/{day} {hour1}:{minute}:00'\n",
        "  \"\"\".format(year=year,month=month,day=day,hour1=hour1,minute=minute,hour2=hour2,sensor=sensor)\n",
        "  DATA = run_query(consulta)\n",
        "  return DATA"
      ],
      "execution_count": 8,
      "outputs": []
    },
    {
      "cell_type": "code",
      "metadata": {
        "id": "_xCy2_F4Ic6J"
      },
      "source": [
        "# consult one hour before\n",
        "now=datetime.now()\n",
        "now = now-timedelta(hours=5)\n",
        "now2 = now-timedelta(hours=1)\n",
        "year = now.year\n",
        "month = now.month\n",
        "day = now.day\n",
        "hour1 = now.hour\n",
        "hour2 = now2.hour\n",
        "minute = now.minute"
      ],
      "execution_count": 9,
      "outputs": []
    },
    {
      "cell_type": "code",
      "source": [
        "print(hour1)\n",
        "print(hour2+0.5)"
      ],
      "metadata": {
        "colab": {
          "base_uri": "https://localhost:8080/"
        },
        "id": "vyouti0ljRl6",
        "outputId": "31d16503-5148-4412-bd26-0b2f2c4c1863"
      },
      "execution_count": 10,
      "outputs": [
        {
          "output_type": "stream",
          "name": "stdout",
          "text": [
            "15\n",
            "14.5\n"
          ]
        }
      ]
    },
    {
      "cell_type": "code",
      "source": [
        "# Extract from DATA the temperature values\n",
        "sensor = 'c9478c82-081b-4cbc-b296-107b971d3a18'\n",
        "temp = consulta(year=year,month=month,day=day,hour1=hour1,minute=minute,hour2=hour2,sensor=sensor)\n",
        "temp_max = temp.valor1.max()\n",
        "temp_min = temp.valor1.min()\n",
        "temp_med = (temp_max+temp_min)/2\n",
        "#print('Temperatura min:{}\\nTemperatura Maxima:{}\\nTemperatura Media:{}'.format(temp_min,temp_max,temp_med))"
      ],
      "metadata": {
        "id": "1gfnh44pqXG2"
      },
      "execution_count": 11,
      "outputs": []
    },
    {
      "cell_type": "code",
      "source": [
        "# Extract from DATA the solar radiation values\n",
        "sensor_rad = '26547499-9f22-465e-abbb-fa1a4769aa04' #radiacion\n",
        "Radiation1 = consulta(year=year,month=month,day=day,hour1=hour1,minute=minute,hour2=hour2,sensor=sensor_rad) #consult the radiation on the previous hour\n",
        "Radiation = statistics.mean(Radiation1.valor1) # average radiation\n",
        "print('Radiacion:{}'.format(Radiation))"
      ],
      "metadata": {
        "id": "E_XDP9wRdCLb",
        "colab": {
          "base_uri": "https://localhost:8080/"
        },
        "outputId": "9944a95c-3cca-4604-f7fd-d33af80fd6f8"
      },
      "execution_count": 12,
      "outputs": [
        {
          "output_type": "stream",
          "name": "stdout",
          "text": [
            "Radiacion:297.8888513513514\n"
          ]
        }
      ]
    },
    {
      "cell_type": "code",
      "source": [
        "# Extract from DATA the wind speed values\n",
        "sensor_wind = '63005737-45c1-4f2f-8a46-9eadf77d2841'\n",
        "wind_sp = consulta(year=year,month=month,day=day,hour1=hour1,minute=minute,hour2=hour2,sensor=sensor_wind)\n",
        "wind_avg = wind_sp.valor1.mean()\n",
        "print('Wind:{}'.format(wind_avg))"
      ],
      "metadata": {
        "colab": {
          "base_uri": "https://localhost:8080/"
        },
        "id": "UBnE2ynosdK4",
        "outputId": "77d95c47-fbd6-4266-83e0-b8909945c6d6"
      },
      "execution_count": 13,
      "outputs": [
        {
          "output_type": "stream",
          "name": "stdout",
          "text": [
            "Wind:1.3006756756756757\n"
          ]
        }
      ]
    },
    {
      "cell_type": "code",
      "source": [
        "# Extract from DATA the ambient humidity values\n",
        "sensor_hum = '93afd49e-9e22-4388-ba1c-126708d88820'\n",
        "humidity = consulta(year=year,month=month,day=day,hour1=hour1,minute=minute,hour2=hour2,sensor=sensor_hum)\n",
        "humidity_avg = humidity.valor1.mean()\n",
        "print('Humidity:{}'.format(humidity_avg))\n"
      ],
      "metadata": {
        "colab": {
          "base_uri": "https://localhost:8080/"
        },
        "id": "bQqykGr9mExL",
        "outputId": "9a3cabfa-4286-4ce1-d026-724861b591bc"
      },
      "execution_count": 14,
      "outputs": [
        {
          "output_type": "stream",
          "name": "stdout",
          "text": [
            "Humidity:91.060472972973\n"
          ]
        }
      ]
    },
    {
      "cell_type": "code",
      "metadata": {
        "id": "GV9r6sOICaeQ",
        "colab": {
          "base_uri": "https://localhost:8080/"
        },
        "outputId": "71845b1b-8785-45a0-f6de-31f5d8903f42"
      },
      "source": [
        "# Julian day\n",
        "day_of_year = datetime.now().timetuple().tm_yday\n",
        "print(day_of_year)"
      ],
      "execution_count": 15,
      "outputs": [
        {
          "output_type": "stream",
          "name": "stdout",
          "text": [
            "83\n"
          ]
        }
      ]
    },
    {
      "cell_type": "markdown",
      "metadata": {
        "id": "mGzeBwcyhsy6"
      },
      "source": [
        "## ETo_Penman"
      ]
    },
    {
      "cell_type": "markdown",
      "metadata": {
        "id": "0DFzV9ipMnbk"
      },
      "source": [
        "### climatological data hosted on drive"
      ]
    },
    {
      "cell_type": "code",
      "metadata": {
        "id": "vLYuPR8xdZnT"
      },
      "source": [
        "z     = 2200           # Elevación sobre el nivel del mar\n",
        "J     = pd.read_excel('/content/drive/MyDrive/Colab Notebooks/4. Tesis/Datos_Estaciones/Juliano_mayo.xlsx', sheet_name='Hoja1') #Día Juliano\n",
        "lat   = 1+(21/60)     # Latitud de la estación La Mina\n",
        "long  = -77.29086111     # Longitud de la estación La Mina\n",
        "t1         = pd.read_excel('/content/drive/MyDrive/Colab Notebooks/4. Tesis/Datos_Estaciones/hora_estandar.xlsx', sheet_name='Hoja1') \n",
        "TMAX       = pd.read_excel('/content/drive/MyDrive/Colab Notebooks/4. Tesis/Datos_Estaciones/Mina_Temperatura_Max_diaria_hora.xlsx', sheet_name='Hoja1')\n",
        "TMIN       = pd.read_excel('/content/drive/MyDrive/Colab Notebooks/4. Tesis/Datos_Estaciones/Mina_Temperatura_Min_diaria_hora.xlsx', sheet_name='Hoja1')\n",
        "TMED       = pd.read_excel('/content/drive/MyDrive/Colab Notebooks/4. Tesis/Datos_Estaciones/Mina_Temperatura_Med_diaria_hora.xlsx', sheet_name='Hoja1')\n",
        "RAD_SOL    = pd.read_excel('/content/drive/MyDrive/Colab Notebooks/4. Tesis/Datos_Estaciones/Mina_Radiacion_solar_diaria_hora.xlsx', sheet_name='Hoja1')\n",
        "VEL_VIENTO = pd.read_excel('/content/drive/MyDrive/Colab Notebooks/4. Tesis/Datos_Estaciones/Mina_Vel_viento_diaria_hora.xlsx', sheet_name='Hoja1')\n",
        "HR_MED     = pd.read_excel('/content/drive/MyDrive/Colab Notebooks/4. Tesis/Datos_Estaciones/Mina_Humedad_Relativa_diaria_hora.xlsx', sheet_name='Hoja1')\n",
        "d = len(TMED.index)"
      ],
      "execution_count": null,
      "outputs": []
    },
    {
      "cell_type": "markdown",
      "source": [
        "**Climatological data hosted on Cafiot**"
      ],
      "metadata": {
        "id": "-YoPGHchvSuL"
      }
    },
    {
      "cell_type": "code",
      "source": [
        "z          = 2200             # Elevation above sea level\n",
        "J          = day_of_year      # Julian day\n",
        "lat        = 1+(21/60)        # Latitude\n",
        "long       = -77.29086111     # longitude\n",
        "t1         = hour2+0.5        # standard hour \n",
        "TMAX       = temp_max\n",
        "TMIN       = temp_min\n",
        "TMED       = temp_med\n",
        "RAD_SOL    = Radiation\n",
        "VEL_VIENTO = wind_avg\n",
        "HR_MED     = humidity_avg"
      ],
      "metadata": {
        "id": "EOJvMuYHvo2i"
      },
      "execution_count": 16,
      "outputs": []
    },
    {
      "cell_type": "code",
      "metadata": {
        "id": "gkR2Eg21r3Ru",
        "colab": {
          "base_uri": "https://localhost:8080/"
        },
        "outputId": "b0a2f047-7db1-4c76-b650-56247ea22c99"
      },
      "source": [
        "print(t1)"
      ],
      "execution_count": null,
      "outputs": [
        {
          "output_type": "stream",
          "name": "stdout",
          "text": [
            "16.5\n"
          ]
        }
      ]
    },
    {
      "cell_type": "markdown",
      "metadata": {
        "id": "CFriCIDNimN4"
      },
      "source": [
        "### Parameters ETo"
      ]
    },
    {
      "cell_type": "code",
      "metadata": {
        "id": "sAPGzgYsT2lu",
        "colab": {
          "base_uri": "https://localhost:8080/"
        },
        "outputId": "adcdbf1a-fc8b-4fba-acba-321500d99c8d"
      },
      "source": [
        "# Pendiente de la curva de presión de saturación de vapor (Δ): \n",
        "# Pagina 57 \n",
        "# EC.13\n",
        "\n",
        "## With a for cycle\n",
        "\n",
        "#Delta = []              # Variable para alojar calculo\n",
        "\n",
        "#for n in range(d):\n",
        "    #Delta.append(4098*(0.6108*np.exp(17.27*TMED.TMED[n]/(TMED.TMED[n]+237.3)))/(TMED.TMED[n]+237.3)**2)  #Pág. 57                        \n",
        "\n",
        "#Delta = np.array(Delta)\n",
        "\n",
        "## without a for cycle\n",
        "Delta = (4098*(0.6108*np.exp(17.27*TMED/(TMED+237.3)))/(TMED+237.3)**2)            \n",
        "\n",
        "print(Delta)\n",
        "#plt.plot(Deltahr)"
      ],
      "execution_count": 17,
      "outputs": [
        {
          "output_type": "stream",
          "name": "stdout",
          "text": [
            "0.19413722151601154\n"
          ]
        }
      ]
    },
    {
      "cell_type": "code",
      "metadata": {
        "colab": {
          "base_uri": "https://localhost:8080/"
        },
        "id": "Zn1qwsywhaul",
        "outputId": "f86c0138-5a53-4627-cb19-dabbbe161d11"
      },
      "source": [
        "# Presión Atmosférica (P) [kPa]:\n",
        "# La presión atmosférica, P, es la presión ejercida por el peso de la atmósfera terrestre. \n",
        "# Pag 52 de documento\n",
        "\n",
        "P = 101.3*((293-0.0065*z)/293)**5.26\n",
        "\n",
        "print(P)"
      ],
      "execution_count": 18,
      "outputs": [
        {
          "output_type": "stream",
          "name": "stdout",
          "text": [
            "77.85853321308541\n"
          ]
        }
      ]
    },
    {
      "cell_type": "code",
      "metadata": {
        "colab": {
          "base_uri": "https://localhost:8080/"
        },
        "id": "cAap9twfisRx",
        "outputId": "71bd72a6-84a1-4097-8f38-f50a6501bc81"
      },
      "source": [
        "# Constante Psicrométrica (ϒ) [kPa/°C]:\n",
        "Cp = 1.01*(10**-3)              # Calor específico a presión constante \n",
        "E  = 0.622                      # Cociente del peso molecular de vapor de agua /aire seco\n",
        "lambd_a = 2.45                  # Calor latente de vaporización\n",
        "\n",
        "Upsilon = (Cp*P)/(E*lambd_a)    # Ecuación (8) pág. 52\n",
        "\n",
        "print(Upsilon)"
      ],
      "execution_count": 19,
      "outputs": [
        {
          "output_type": "stream",
          "name": "stdout",
          "text": [
            "0.05160254514418024\n"
          ]
        }
      ]
    },
    {
      "cell_type": "code",
      "metadata": {
        "id": "G8bg6mA_jd54",
        "colab": {
          "base_uri": "https://localhost:8080/",
          "height": 135
        },
        "outputId": "3c1d5ba3-3317-466f-a0f5-53c2438b4cc3"
      },
      "source": [
        "# Presión media de vapor de la saturación  (e_s)    REVISAR!!!!\n",
        "\n",
        "# Presión de satudación de vapor a Tmax (e_o)\n",
        "\n",
        "#print(min(TMAX.TMAX))\n",
        "\n",
        "#e_0Tmax = []\n",
        "#for n in range(d):\n",
        "  e_0Tmax.append(0.6108*math.exp((17.27*TMAX.TMAX[n])))   \n",
        "\n",
        "#e_0Tmax = np.array(e_0Tmax)\n",
        "\n",
        "# Presión de satudación de vapor a Tmin(e_o)\n",
        "\n",
        "#e_0Tmin = []\n",
        "#for n in range(d):\n",
        "    #e_0Tmin.append(0.6108*math.exp((17.27*TMIN.TMIN[n])))\n",
        "\n",
        "#e_0Tmin = np.array(e_0Tmin)\n",
        "\n",
        "# Presión media de vapor de la saturación (e_s)\n",
        "# e_s = []\n",
        "#for n in range(1,d+1):\n",
        "#     e_0Tmin.append(e_0Tmax[n-1]+e_0Tmin[n-1])/2\n",
        "\n",
        "#print(e_0Tmax)\n",
        "#print('*\\n \\n')\n",
        "#print(e_0Tmin)\n",
        "#plt.plot(e_0Tmax)\n",
        "#plt.plot(e_0Tmin)"
      ],
      "execution_count": 20,
      "outputs": [
        {
          "output_type": "error",
          "ename": "IndentationError",
          "evalue": "ignored",
          "traceback": [
            "\u001b[0;36m  File \u001b[0;32m\"<ipython-input-20-b07e2b6f32b7>\"\u001b[0;36m, line \u001b[0;32m9\u001b[0m\n\u001b[0;31m    e_0Tmax.append(0.6108*math.exp((17.27*TMAX.TMAX[n])))\u001b[0m\n\u001b[0m    ^\u001b[0m\n\u001b[0;31mIndentationError\u001b[0m\u001b[0;31m:\u001b[0m unexpected indent\n"
          ]
        }
      ]
    },
    {
      "cell_type": "code",
      "source": [
        "e_0Tmax=(0.6108*math.exp((17.27*TMAX)/(TMAX+237.3)))\n",
        "e_0Tmin=(0.6108*math.exp((17.27*TMIN)/(TMIN+237.3)))\n",
        "e_s = (e_0Tmax-e_0Tmin)/2"
      ],
      "metadata": {
        "id": "G6LLA7wkny_t"
      },
      "execution_count": 21,
      "outputs": []
    },
    {
      "cell_type": "code",
      "source": [
        "#print(e_0Tmax)\n",
        "#print(e_0Tmin)\n",
        "#print(e_s)"
      ],
      "metadata": {
        "id": "2ttbiukMprXs"
      },
      "execution_count": null,
      "outputs": []
    },
    {
      "cell_type": "code",
      "metadata": {
        "id": "scdlp0Y9oJkZ"
      },
      "source": [
        "# Parámetro A\n",
        "#P_Ahr = []              # Variable para alojar calculo\n",
        "\n",
        "#for n in range(d):\n",
        "#    P_Ahr.append(1+0.34*VEL_VIENTO.Viento_1[n])  \n",
        "\n",
        "#P_Ahr = np.array(P_Ahr)\n",
        "\n",
        "#print(P_Ahr)\n",
        "#plt.plot(P_Ahr)\n",
        "\n",
        "P_Ahr = 1+0.34*VEL_VIENTO\n",
        "#print(P_Ahr)"
      ],
      "execution_count": 22,
      "outputs": []
    },
    {
      "cell_type": "code",
      "metadata": {
        "id": "LPTAanazotXV",
        "colab": {
          "base_uri": "https://localhost:8080/"
        },
        "outputId": "48dbec0f-68da-49ff-acdf-8a7a07142979"
      },
      "source": [
        "# Parámetro B\n",
        "#P_Bhr = []              # Variable para alojar calculo\n",
        "\n",
        "#for n in range(d):\n",
        "#    P_Bhr.append(Delta[n]/(Delta[n] + Upsilon*(P_Ahr[n]))) \n",
        "\n",
        "#P_Bhr = np.array(P_Bhr) \n",
        "\n",
        "P_Bhr = Delta/(Delta+Upsilon*P_Ahr)\n",
        "print(P_Bhr)\n",
        "#plt.plot(P_Bhr)"
      ],
      "execution_count": 23,
      "outputs": [
        {
          "output_type": "stream",
          "name": "stdout",
          "text": [
            "0.7228822623212836\n"
          ]
        }
      ]
    },
    {
      "cell_type": "code",
      "metadata": {
        "id": "ko7YpQ96rgmJ",
        "colab": {
          "base_uri": "https://localhost:8080/"
        },
        "outputId": "2c063225-26a4-4956-c06e-d629e0b813cc"
      },
      "source": [
        "# Parámetro C\n",
        "\n",
        "#P_Chr = []                        # Variable para alojar calculo\n",
        "\n",
        "#for n in range(d):\n",
        "#    P_Chr.append(Upsilon/Delta[n]+Upsilon*P_Ahr[n])\n",
        "\n",
        "#P_Chr = np.array(P_Chr) \n",
        "\n",
        "P_Chr = Upsilon/(Delta+Upsilon*P_Ahr)\n",
        "print(P_Chr)\n",
        "#plt.plot(P_Chr)"
      ],
      "execution_count": 24,
      "outputs": [
        {
          "output_type": "stream",
          "name": "stdout",
          "text": [
            "0.1921453510257673\n"
          ]
        }
      ]
    },
    {
      "cell_type": "code",
      "metadata": {
        "id": "S60HSh55sMMb",
        "colab": {
          "base_uri": "https://localhost:8080/"
        },
        "outputId": "08e9ed4f-2eb3-4f6f-efdb-d6a80d29deed"
      },
      "source": [
        "# Parámetro D\n",
        "#P_Dhr = []                       # Variable para alojar calculo\n",
        "\n",
        "#for n in range(d):\n",
        "#    P_Dhr.append(37/(TMED.TMED[n]+273)*VEL_VIENTO.Viento_1[n])\n",
        "\n",
        "#P_Dhr = np.array(P_Dhr)\n",
        "P_Dhr = (900/(TMED+273))*VEL_VIENTO\n",
        "print(P_Dhr)\n"
      ],
      "execution_count": 25,
      "outputs": [
        {
          "output_type": "stream",
          "name": "stdout",
          "text": [
            "3.920978422736922\n"
          ]
        }
      ]
    },
    {
      "cell_type": "code",
      "metadata": {
        "id": "BvSb2PwOs0-p"
      },
      "source": [
        "# Parámetro E\n",
        "\n",
        "#e0_Tmaxhr = []                        # Variable para alojar calculo\n",
        "    \n",
        "#for n in range(d):\n",
        "#    e0_Tmaxhr.append(0.6108*np.exp((17.27*TMAX.TMAX[n])/(TMAX.TMAX[n]+273.3)))\n",
        "\n",
        "#e0_Tmaxhr = np.array(e0_Tmaxhr)\n",
        "\n",
        "#plt.plot(e0_Tmaxhr)"
      ],
      "execution_count": null,
      "outputs": []
    },
    {
      "cell_type": "code",
      "metadata": {
        "id": "5MA2aYvHtqU4"
      },
      "source": [
        " # Presión de saturación de vapor a la temperatura mínima del aire (e0 Tmax)[kPa]\n",
        "\n",
        " #e0_Tminhr = []\n",
        "\n",
        " #for n in range(d):\n",
        " #   e0_Tminhr.append(0.6108*np.exp((17.27*TMIN.TMIN[n])/(TMIN.TMIN[n]+273.3)))\n",
        "\n",
        "#e0_Tminhr = np.array(e0_Tminhr) \n",
        "\n",
        "#plt.plot(e0_Tminhr)"
      ],
      "execution_count": null,
      "outputs": []
    },
    {
      "cell_type": "code",
      "metadata": {
        "id": "mnN5azRXuV-I"
      },
      "source": [
        "# Presión media de vapor de saturación (es)[kPa]\n",
        "#eshr = []                        # Variable para alojar calculo\n",
        "    \n",
        "#for n in range(d):\n",
        "#    eshr.append((e0_Tmaxhr[n]+e0_Tminhr[n])/2)\n",
        "\n",
        "#eshr = np.array(eshr) \n",
        "e0_Tmaxhr = 0.618*np.exp((17.27*TMAX)/(TMAX+237.3)) \n",
        "e0_Tminhr = 0.618*np.exp((17.27*TMIN)/(TMIN+237.3)) \n",
        "eshr = (e0_Tmaxhr+e0_Tminhr)/2\n"
      ],
      "execution_count": 28,
      "outputs": []
    },
    {
      "cell_type": "code",
      "metadata": {
        "id": "8HOwCPDiu0jk"
      },
      "source": [
        "# Presión de saturación de vapor a la temperatura media del aire (eo Tmed) [kPa]\n",
        "#e0_Tmedhr = [];                        # Variable para alojar calculo\n",
        "    \n",
        "#for n in range(d):\n",
        "#    e0_Tmedhr.append(0.6108*math.exp((17.27*TMED.TMED[n])/(TMED.TMED[n]+273.3))) \n",
        "\n",
        "#e0_Tmedhr = np.array(e0_Tmedhr) \n",
        "e0_Tmedhr = 0.6108*np.exp((17.27*TMED)/(TMED+237.3))\n"
      ],
      "execution_count": 29,
      "outputs": []
    },
    {
      "cell_type": "code",
      "metadata": {
        "id": "pBklMnK4vkwI"
      },
      "source": [
        "# Presión real de vapor (ea) [kPa]\n",
        "#eahr = []                        # Variable para alojar calculo\n",
        "    \n",
        "#for n in range(d):\n",
        "#    eahr.append((HR_MED.HR[n]/100)*e0_Tmedhr[n]) \n",
        "\n",
        "#eahr = np.array(eahr) \n",
        "eahr = (HR_MED/100)*e0_Tmedhr\n",
        "#print(HR_MED_hr.head())"
      ],
      "execution_count": 30,
      "outputs": []
    },
    {
      "cell_type": "code",
      "metadata": {
        "id": "tUmOyej3xtTS"
      },
      "source": [
        "# Parámetro E horario\n",
        "#P_Ehr = []\n",
        "\n",
        "#for n in range(d):\n",
        "#        P_Ehr.append(eshr[n]-eahr[n])\n",
        "\n",
        "#P_Ehr = np.array(P_Ehr)\n",
        "P_Ehr = (eshr-eahr) \n",
        "#plt.plot(eshr)"
      ],
      "execution_count": 31,
      "outputs": []
    },
    {
      "cell_type": "code",
      "metadata": {
        "id": "Meict-Rdb_Ko"
      },
      "source": [
        "# Parámetro F\n",
        "\n",
        "# Calculo de Radiación extraterrestre por hora (Ra)\n",
        "\n",
        "# Constante solar\n",
        "Gsc = 0.082\n",
        "\n",
        "# distancia relativa inversa Tierra-Sol, dr\n",
        "dr = []\n",
        "\n",
        "for n in range(d):\n",
        "  dr.append(1+0.033*math.cos((2*math.pi/365)*J.Juliano[n]))\n",
        "\n",
        "dr = np.array(dr)\n",
        "#print(dr)\n",
        "\n",
        "# declinación solar, ds \n",
        "ds = []\n",
        "for n in range(d):\n",
        "    ds.append(0.409*math.sin((2*math.pi/365)*J.Juliano[n]-1.39))\n",
        "\n",
        "ds = np.array(ds)\n",
        "#print(ds) \n",
        "\n",
        "# Latitud en Radianes\n",
        "\n",
        "lat_rad = (math.pi/180)*lat\n",
        "#print(lat_rad)\n",
        "\n",
        "# Corrección Estacional\n",
        "\n",
        "b = []\n",
        "for n in range(d):\n",
        "    b.append(2*math.pi*((J.Juliano[n]-81)/364))\n",
        "\n",
        "b = np.array(b)\n",
        "\n",
        "Sc = []\n",
        "\n",
        "for n in range(d):\n",
        "    Sc.append(0.1645*math.sin(2*b[n])-0.1255*math.cos(b[n])-0.025*math.sin(b[n]))\n",
        "\n",
        "b = np.array(b)\n",
        "\n",
        "# Angulo solar\n",
        "\n",
        "w = []\n",
        "\n",
        "for n in range(d):\n",
        "  w.append(math.pi/12*(t1.Hora_std[n]+0.06667*((75-77)+Sc[n])-12))\n",
        "\n",
        "w = np.array(w)\n",
        "\n",
        "# Angulos de radiación solar al incio y al final\n",
        "\n",
        "w1 =[]\n",
        "\n",
        "for n in range(d):\n",
        "  w1.append(w[n]-(math.pi/24))\n",
        "\n",
        "w1 = np.array(w1)\n",
        "\n",
        "w2 =[]\n",
        "\n",
        "for n in range(d):\n",
        "  w2.append(w[n]+(math.pi/24))\n",
        "\n",
        "w2 = np.array(w2)\n",
        "\n",
        "# Ra\n",
        "\n",
        "Ra = []\n",
        "\n",
        "for n in range(d):\n",
        "  #Ra.append((12*60/math.pi)*Gsc*dr*((w2[n]-w1[n])*math.sin(lat_rad)*math.sin(ds[n])+math.cos(lat_rad)*math.cos(ds[n])*(math.sin(w2[n])-math.sin(w1[n]))))\n",
        "  Ra.append(((12*60/math.pi)*Gsc*dr[n]*((w2[n]-w1[n])*math.sin(lat_rad)*math.sin(ds[n])+math.cos(lat_rad)*math.cos(ds[n])*(math.sin(w2[n])-math.sin(w1[n])))))\n",
        "Ra = np.array(Ra)\n",
        "\n",
        "#print(Ra)"
      ],
      "execution_count": null,
      "outputs": []
    },
    {
      "cell_type": "code",
      "metadata": {
        "id": "4q-NQePvzuIP"
      },
      "source": [
        "# Radiación solar en un día despejado (Rso)\n",
        "Rso = []\n",
        "\n",
        "for n in range(d):\n",
        "  Rso.append((0.75 + 2*10**-5*z)*Ra[n]) \n",
        "\n",
        "Rso = np.array(Rso)\n",
        "#print(Rso)\n"
      ],
      "execution_count": null,
      "outputs": []
    },
    {
      "cell_type": "code",
      "metadata": {
        "id": "A85Xu3KHz1Dy"
      },
      "source": [
        "# Radiación neta solar o de onda corta (Rns): Ecuación 38 Pag.72\n",
        "\n",
        "Rns = []                        # Variable para alojar calculo\n",
        "    \n",
        "for n in range(d):\n",
        "    Rns.append(0.77*RAD_SOL.Rad_Ajus[n])\n",
        "\n",
        "Rns = np.array(Rns)\n",
        "#print(Rns)"
      ],
      "execution_count": null,
      "outputs": []
    },
    {
      "cell_type": "code",
      "metadata": {
        "id": "NVN1I_lBz5u3"
      },
      "source": [
        "# Radiación neta de onda larga (Rnl)\n",
        "Rs = []\n",
        "\n",
        "for n in range(d):\n",
        "    Rs.append(RAD_SOL.Rad_Ajus[n])\n",
        "\n",
        "Rs = np.array(Rs)\n",
        "                      \n",
        "\n",
        "Rnl = []\n",
        "for n in range(d):\n",
        "    #Rnl.append(4.903*10**-9*(((TMAX.TMAX[n])**4 + (TMIN.TMIN[n])**4)/2)*(0.34-0.14*math.sqrt(eahr[n]))*(1.35*(Rshr[n]/Rso)-0.35))\n",
        "    Rnl.append(4.903*10**-9*(((TMAX.TMAX[n])**4 + (TMIN.TMIN[n])**4)/2)*(0.34-0.14*math.sqrt(eahr[n]))*(1.35*(Rs[n]/Rso[n])-0.35))\n",
        "Rnl = np.array(Rnl)\n",
        "#print(Rnl)"
      ],
      "execution_count": null,
      "outputs": []
    },
    {
      "cell_type": "code",
      "metadata": {
        "id": "ure5kULE3ESE"
      },
      "source": [
        "P_Fhr = []                      # Variable para alojar calculo\n",
        "    \n",
        "for n in range(d):\n",
        "    P_Fhr.append(Rns[n]-Rnl[n])\n",
        "\n",
        "P_Fhr = np.array(P_Fhr)\n",
        "#print(P_Fhr)"
      ],
      "execution_count": null,
      "outputs": []
    },
    {
      "cell_type": "code",
      "metadata": {
        "id": "H43J6J2N3ir0"
      },
      "source": [
        "#Parámetro G  (Flujo de calor del suelo )\n",
        "    \n",
        "P_Ghr = [0]                     # Variable para alojar calculo\n",
        "    \n",
        "for n in range(d-1):\n",
        "    #P_Ghr.append(0.07*TMED.TMED[n+1]-TMED.TMED[n])\n",
        "    P_Ghr.append(0.5*P_Fhr[n])\n",
        "\n",
        "P_Ghr = np.array(P_Ghr)\n",
        "#print(P_Ghr)\n",
        "#plt.plot(P_Ghr)"
      ],
      "execution_count": null,
      "outputs": []
    },
    {
      "cell_type": "code",
      "metadata": {
        "id": "ilVo9tOZ4TJv"
      },
      "source": [
        "# Aplicación de Penman Monteith\n",
        "ETo = []\n",
        "for n in range(d):\n",
        "    ETo.append(24*(0.408*Delta[n]*(P_Fhr[n]-P_Ghr[n]) + lambd_a*P_Dhr[n]*P_Ehr[n])/(Delta[n]+(lambd_a*P_Ahr[n])))\n",
        "\n",
        "ETo = np.array(ETo)\n",
        "#print(ETo)"
      ],
      "execution_count": null,
      "outputs": []
    },
    {
      "cell_type": "code",
      "metadata": {
        "id": "IjKRunfACmo4"
      },
      "source": [
        "#plt.plot(e0_Tmaxhr)"
      ],
      "execution_count": null,
      "outputs": []
    },
    {
      "cell_type": "markdown",
      "metadata": {
        "id": "fnPSUcu3Nm3a"
      },
      "source": [
        "### Figures ETo"
      ]
    },
    {
      "cell_type": "markdown",
      "metadata": {
        "id": "NAqo4bUdRBI-"
      },
      "source": [
        "datos humedad (HV CB)\n",
        "      clima\n",
        "      riego\n"
      ]
    },
    {
      "cell_type": "code",
      "metadata": {
        "id": "V8pFpuZD6OMX",
        "colab": {
          "base_uri": "https://localhost:8080/",
          "height": 298
        },
        "outputId": "83aa3df0-a5fc-4e2a-833f-096d9f8dc262"
      },
      "source": [
        "# Gráficas\n",
        "\n",
        "time1=np.arange(0,11,1/23.99)\n",
        "#t=time[0:264]\n",
        "plt.plot(time1,ETo,label='ETo')\n",
        "plt.legend()\n",
        "plt.title('Reference Evapotranspiration')\n",
        "plt.xlabel('Time [days]',fontsize=12)\n",
        "plt.ylabel('ETo [mm/day]')\n",
        "#plt.tick_params(fontsize=18)\n",
        "plt.grid()\n",
        "#plt.xlim(0,3)\n",
        "#plt.ylim(0,1e58)\n",
        "#plt.show()\n",
        "#print(max(ETohr))\n",
        "#rint(ETohr)1"
      ],
      "execution_count": null,
      "outputs": [
        {
          "output_type": "display_data",
          "data": {
            "image/png": "[encoded data removed]",
            "text/plain": [
              "<Figure size 432x288 with 1 Axes>"
            ]
          },
          "metadata": {
            "needs_background": "light"
          }
        }
      ]
    },
    {
      "cell_type": "markdown",
      "metadata": {
        "id": "MsCKcGffn_Zs"
      },
      "source": [
        "## Open Loop Simulation"
      ]
    },
    {
      "cell_type": "code",
      "metadata": {
        "id": "tOzspuRWoHck"
      },
      "source": [
        "# Parameters\n",
        "c1 = 1           # percolacion/humedad (1/dia)\n",
        "c2 = 0.5         # relacion de humedad entre zonas vecinas (1/dia)\n",
        "c3 = 1.2         # perdida de humedad/Evapotranspiracion (mm/dia)\n",
        "c4 = 1           # infiltracion del suelo (mm/dia)\n",
        "tm = 60/(60*24)  # tiempo de muestreo (10 minutos) en unidades de dia\n",
        "# Conversion (mm/m) to % = dividir entre 10 "
      ],
      "execution_count": null,
      "outputs": []
    },
    {
      "cell_type": "code",
      "metadata": {
        "id": "i66dB1vroZYP"
      },
      "source": [
        "# state space with 2 states\n",
        "A=np.matrix([[1-tm*(c1+c2),c2*tm],[tm*c2,1-tm*(c1+c2)]])  \n",
        "B=tm*2.4*np.diag([1,1])\n",
        "# Matriz de disturbios [Eto Rtot]'\n",
        "E=(tm/10)*np.matrix([[-c3,c4],[-c3,c4]])\n",
        "#print(B)\n",
        "#print(E)"
      ],
      "execution_count": null,
      "outputs": []
    },
    {
      "cell_type": "code",
      "metadata": {
        "colab": {
          "base_uri": "https://localhost:8080/"
        },
        "id": "Zsx7bENmopC2",
        "outputId": "674c9966-c6cd-41cf-a149-5257edd8cd76"
      },
      "source": [
        "# Initial conditions to 2 states\n",
        "x=np.matrix([[250],[320]])\n",
        "u=np.matrix([[140],[0]])\n",
        "X=x\n",
        "time=np.arange(0,11,tm)\n",
        "fin=len(time)\n",
        "print(fin)"
      ],
      "execution_count": null,
      "outputs": [
        {
          "output_type": "stream",
          "name": "stdout",
          "text": [
            "264\n"
          ]
        }
      ]
    },
    {
      "cell_type": "code",
      "metadata": {
        "id": "HjoF36UPowBO"
      },
      "source": [
        "# Simulation\n",
        "#Rtot=zeros(1,480);\n",
        "#del dis\n",
        "Rtot=np.zeros(264)\n",
        "Eto = ETo\n",
        "\n",
        "dis=np.matrix(np.array([[Eto],[Rtot]])) \n",
        "#xsig=[]\n",
        "for i in range(fin-1):\n",
        "    #print(i)\n",
        "    xsig=(A*x+B*u+E*dis[:,i]) #dist(:,i)\n",
        "    #print(xsig[1])\n",
        "    x=xsig\n",
        "    #print(x)\n",
        "    X= np.append(X,xsig,axis=1)#,[[xsig[0]], [xsig[1]]],axis=1)\n",
        "    #print(X)\n",
        "#X = np.matrix([X]) \n",
        "#end\n",
        "#print(dis)\n",
        "#print(i)"
      ],
      "execution_count": null,
      "outputs": []
    },
    {
      "cell_type": "code",
      "metadata": {
        "colab": {
          "base_uri": "https://localhost:8080/",
          "height": 265
        },
        "id": "noH0NdRraxyB",
        "outputId": "a8cc9a7c-ce94-47c6-eb21-160a5fea8570"
      },
      "source": [
        "plt.plot(time1, np.ravel(X[0,:]))\n",
        "plt.show()"
      ],
      "execution_count": null,
      "outputs": [
        {
          "output_type": "display_data",
          "data": {
            "image/png": "[encoded data removed]",
            "text/plain": [
              "<Figure size 432x288 with 1 Axes>"
            ]
          },
          "metadata": {
            "needs_background": "light"
          }
        }
      ]
    },
    {
      "cell_type": "code",
      "metadata": {
        "colab": {
          "base_uri": "https://localhost:8080/",
          "height": 265
        },
        "id": "aAEghUWafUdK",
        "outputId": "be4e18c0-9de5-4f29-e4f4-0000ae0d6b6d"
      },
      "source": [
        "plt.plot(time1, np.ravel(X[1,:]))\n",
        "plt.show()"
      ],
      "execution_count": null,
      "outputs": [
        {
          "output_type": "display_data",
          "data": {
            "image/png": "[encoded data removed]",
            "text/plain": [
              "<Figure size 432x288 with 1 Axes>"
            ]
          },
          "metadata": {
            "needs_background": "light"
          }
        }
      ]
    },
    {
      "cell_type": "markdown",
      "metadata": {
        "id": "SOLxtaFK9VWj"
      },
      "source": [
        "sacar los datos de humedad de suelo y los datos de evapotranspiración\n",
        "simular el sistema\n",
        "medida real de humedad de suelo\n",
        "\n",
        "\n",
        "comparacion entre datos de humedad del modelo y los datos reales\n",
        "\n"
      ]
    },
    {
      "cell_type": "markdown",
      "metadata": {
        "id": "qFo-u1ffkU8r"
      },
      "source": [
        "# CONTROL MPC"
      ]
    },
    {
      "cell_type": "markdown",
      "metadata": {
        "id": "4_kqcQx8MIJF"
      },
      "source": [
        "### Parameters"
      ]
    },
    {
      "cell_type": "code",
      "metadata": {
        "id": "EmUqjGFwkZAY"
      },
      "source": [
        "# Parameters\n",
        "#c1 = 1           # percolacion/humedad (1/dia)\n",
        "#c2 = 0.5         # relacion de humedad entre zonas vecinas (1/dia)\n",
        "#c3 = 1.2         # perdida de humedad/Evapotranspiracion (mm/dia)\n",
        "#c4 = 1           # infiltracion del suelo (mm/dia)\n",
        "#tm = 60/(60*24)  # tiempo de muestreo (10 minutos) en unidades de dia\n",
        "# Conversion (mm/m) to % = dividir entre 10 \n",
        "\n",
        "c1 = 1     # percolacion/humedad (1/dia)\n",
        "c2 = 1     # relacion de humedad entre zonas vecinas (1/dia)\n",
        "c3 = 1.2   # perdida de humedad/Evapotranspiracion (mm/dia)\n",
        "c4 = 1     # infiltracion del suelo (mm/dia)\n",
        "tm = 60/(60*24)    # tiempo de muestreo (10 minutos) en unidades de dia"
      ],
      "execution_count": null,
      "outputs": []
    },
    {
      "cell_type": "markdown",
      "metadata": {
        "id": "sofag9WFMQfa"
      },
      "source": [
        "### state space with 2 states"
      ]
    },
    {
      "cell_type": "code",
      "metadata": {
        "id": "9Lig95cmkn8Y"
      },
      "source": [
        "A=np.matrix([[1-tm*(c1+c2),c2*tm],[tm*c2,1-tm*(c1+c2)]])  \n",
        "B=tm*2.4*np.diag([1,1])\n",
        "# Matriz de disturbios [Eto Rtot]'\n",
        "E=(tm/10)*np.matrix([[-c3,c4],[-c3,c4]])\n",
        "C=np.identity(2)\n",
        "#print(E)"
      ],
      "execution_count": null,
      "outputs": []
    },
    {
      "cell_type": "markdown",
      "metadata": {
        "id": "D-IT9qWIMV36"
      },
      "source": [
        "### Initial conditions"
      ]
    },
    {
      "cell_type": "code",
      "metadata": {
        "id": "FyyzNGvdlG2C"
      },
      "source": [
        "\n",
        "x=np.array([[380],[320]])\n",
        "u=np.array([[0],[0]])\n",
        "Eto = ETo\n",
        "dis=np.matrix(np.array([[Eto],[Rtot]])) \n",
        "X=x"
      ],
      "execution_count": null,
      "outputs": []
    },
    {
      "cell_type": "code",
      "metadata": {
        "id": "jhmcQ5dgl-ct"
      },
      "source": [
        "# Generación de matrices para el problema QP \n",
        "N=2 # Horizonte de predicción\n",
        "# Q para pesar los estados\n",
        "Q=np.array([[100,0],[0,100]])\n",
        "R=np.array([[91,0],[0,91]])\n",
        "P = la.solve_discrete_are(A, B, Q, R)   #Riccati"
      ],
      "execution_count": null,
      "outputs": []
    },
    {
      "cell_type": "markdown",
      "metadata": {
        "id": "d52UmMQNK-HV"
      },
      "source": [
        "### Sistem Constrains"
      ]
    },
    {
      "cell_type": "code",
      "metadata": {
        "id": "jJ6Uk2syKF5_"
      },
      "source": [
        "# Restricciones\n",
        "vmax=np.array([1000,1000,420,420,10*tm,10*tm])  # (Hmax1, Hmax2, umax1, umax2, dumax1, dumax2)  \n",
        "vmin=np.array([0,0,0,0,-10*tm,-10*tm])          # (Hmin1, Hmin2, umin1, umin2, dumin1, dumin2)\n",
        "ic0 =np.array([2,1,1/2])                        #  order of vmax and vmin inputs"
      ],
      "execution_count": null,
      "outputs": []
    },
    {
      "cell_type": "markdown",
      "metadata": {
        "id": "g7xEo1_bWqd4"
      },
      "source": [
        "### QP Matrices Function"
      ]
    },
    {
      "cell_type": "code",
      "metadata": {
        "id": "PYqBQe3bQTaY"
      },
      "source": [
        "def QP_matrices_curso(A,B,C,N,Q,R,P,vmin,vmax,ic0):    # Ok\n",
        "  n =np.shape(B)[0]\n",
        "  m =np.shape(B)[1]\n",
        "  E=B\n",
        "  dmax=0\n",
        "  dmin=0\n",
        "  e=np.shape(E)[0]   \n",
        "  M=N\n",
        "  \n",
        "  DeltaM = []\n",
        "  for i in range(len(vmax)):\n",
        "      DeltaM=np.append(DeltaM,np.kron(np.ones(N),vmax[i]), axis=0)\n",
        "  Deltam =[]\n",
        "  for i in range(len(vmin)):\n",
        "      Deltam=np.append(Deltam,np.kron(np.ones(N),vmin[i]), axis=0)\n",
        "  \n",
        "  # max and min of the perturbation d\n",
        "  dmax = np.kron(np.ones(M),dmax)\n",
        "  dmin = np.kron(np.ones(M),dmin)\n",
        "  \n",
        "  [H,F,Fd,Gamma,Ommega,Phi,Psi]=RHCmatrices(A,B,C,E,P,Q,R,N,N)\n",
        "  CC = np.kron(np.diag(np.ones(M)),C)\n",
        "  phic=[]\n",
        "  L=[]\n",
        "  Lc=[]\n",
        "  Lu=[]\n",
        "  DeltaMc=[]\n",
        "  Deltamc=[]\n",
        " \n",
        "  for i in range(len(ic0)):\n",
        "    ic=ic0[i]    \n",
        "    #######################################################  \n",
        "    if ic==1:                       #input constraints\n",
        "      phi = np.identity(M*m)\n",
        "      L = np.zeros((M*m,n))\n",
        "      rho = np.zeros((M*m,M*e))       #JZF\n",
        "    #########################################################\n",
        "    if ic==2:                      #state constraints (JZF)\n",
        "        phi = Gamma\n",
        "        L = Ommega\n",
        "        if len(Phi)==0:\n",
        "          DeltaM = DeltaM\n",
        "          Deltam = Deltam\n",
        "        else:\n",
        "          rho=[]\n",
        "    ###############################################\n",
        "    \n",
        "    if ic==0:                       #output constraints\n",
        "      phi = CC*Gamma[0:M*n,0:M*m]\n",
        "      L = CC*Ommega[0:M*n,:]\n",
        "      if len(Phi)==0:\n",
        "        DeltaM = DeltaM\n",
        "        Deltam = Deltam\n",
        "      else:\n",
        "        rho=[]\n",
        "    ###################################################\n",
        "    if ic==1/2:                                       #rate constraints  ATTENTION it has to be executed at the end\n",
        "        D1 = np.zeros((M,1))\n",
        "        D1[0] = 1\n",
        "        D1 = np.kron(D1,np.identity(m))\n",
        "        D2 = np.zeros((M*m,M*m))\n",
        "        D2[m:M*m,0:(M*m-m)] = np.kron(np.identity(M-1),np.identity(m))\n",
        "        phi = np.identity(M*m)-D2\n",
        "        L = np.zeros((M*m,n))        \n",
        "        Lu = np.append((np.zeros((len(phic),m))), -D1, axis=0)        \n",
        "        F = np.append(np.zeros((M*m,m)),F,axis=1)           \n",
        "      #####################################################\n",
        "    if len(phic)==0:\n",
        "      phic=phi\n",
        "    else:   \n",
        "      phic = np.append(phic, phi,axis=0)    \n",
        "    if len(Lc)==0:\n",
        "      Lc = L\n",
        "    else:\n",
        "      Lc = np.append(Lc, L, axis=0)        \n",
        "  Lc = np.append(Lu, Lc, axis = 1)  \n",
        "  return (H,F,Fd,phic,Lc,Deltam,DeltaM)"
      ],
      "execution_count": null,
      "outputs": []
    },
    {
      "cell_type": "markdown",
      "metadata": {
        "id": "hw9fcqbPWxZt"
      },
      "source": [
        "### RHC matrices"
      ]
    },
    {
      "cell_type": "code",
      "metadata": {
        "id": "DDJ0FTR3WN8g"
      },
      "source": [
        "def RHCmatrices(A,B,C,E,P,q,r,N,M):      # Ok\n",
        "  nx = np.shape(B)[0]\n",
        "  nx = np.shape(B)[1]\n",
        "  e=np.shape(E)[0]\n",
        "  \n",
        "  #luisRH = Eqp\n",
        "  #Definition of the matrices\n",
        "  Ommega = A\n",
        "  for i in range(2,M+1):\n",
        "    Ommega = np.append(Ommega,A**i,axis=0)\n",
        "  \n",
        "\n",
        "  gamma = np.zeros((M,M)) + np.diag(np.ones(M-1),k=-1)\n",
        "  gamma = np.kron(gamma,np.identity(nx))\n",
        "  Gamma = gamma*Ommega\n",
        "  \n",
        "  for i in range (2,M+1):\n",
        "    Gamma = np.append(Gamma, (np.linalg.matrix_power(gamma,i))*Ommega,axis=1)\n",
        "\n",
        "  Gamma = (Gamma+np.identity(M*nx))*np.kron(np.identity(M),B) \n",
        "\n",
        "  # Phi Matrix\n",
        "\n",
        "  if len(E)==0:\n",
        "    Phi = []\n",
        "\n",
        "  else:\n",
        "    phi = np.zeros(M) + np.diag(np.ones(M-1),k=-1)\n",
        "    phi = np.kron(phi,np.identity(nx))\n",
        "    Phi = phi*Ommega\n",
        "    for i in range(2,M+1):\n",
        "      Phi = np.append(Phi, (np.linalg.matrix_power(phi,i))*Ommega,axis=1)#Phi = np.append(Phi, (phi**i)*Ommega,axis=1)  \n",
        "       \n",
        "    Phi = (Phi + np.identity(M*nx))*np.kron(np.identity(M),E) # aquí es el error con matriz E\n",
        "  \n",
        "  # Psi Matrix\n",
        "  psi = np.zeros(M) + np.diag(np.ones(M-1),k=-1)\n",
        "  psi = np.kron(psi,np.identity(nx))\n",
        "  Psi = psi*Ommega\n",
        "  for i in range(2,M+1):\n",
        "    Psi = np.append(Psi, (np.linalg.matrix_power(psi,i))*Ommega,axis=1)  \n",
        "    #Psi = np.append(Psi, psi**i*Ommega,axis=1)               # Revisar el Resultado\n",
        "  \n",
        "  Psi = (Psi + np.identity(M*nx))*np.kron(np.identity(M),np.identity(np.size(A,1))) # Revisar el Resultado\n",
        "\n",
        "  # Q matrix\n",
        "  Q = np.kron(np.identity(M),q)\n",
        "\n",
        "  # P Matrix in Q\n",
        "\n",
        "  # Get Matrix Sizes \n",
        "  mq, sq = Q.shape\n",
        "  mp, sp = P.shape\n",
        "\n",
        "  # Assigning matrix portion\n",
        "  Q[mq-mp:mq , sq-sp:sq] = P\n",
        "  #Q(nx*N-len(P)+1:nx*N,nx*N-len(P)+1:nx*N) = P\n",
        "\n",
        "  # R Matrix\n",
        "  R = np.kron(np.identity(M),r)\n",
        "\n",
        "  # Matrices used in the u_opt explicit solution.\n",
        "  H = np.transpose(Gamma)*Q*Gamma+R                #Revisar \n",
        "  K1 = np.transpose(Gamma)*Q*Ommega\n",
        "  \n",
        "  if len(E)!=0:                                      # debe ir if len(E)~=1\n",
        "    K2 = np.transpose(Gamma)*Q*Phi\n",
        "  else:\n",
        "    K2=[]    \n",
        "  return (H,K1,K2,Gamma,Ommega,Phi,Psi)"
      ],
      "execution_count": null,
      "outputs": []
    },
    {
      "cell_type": "code",
      "metadata": {
        "id": "QFNQb3MRI3dE"
      },
      "source": [
        "[H,F,Fd,phic,Lc,Deltam,DeltaM]=QP_matrices_curso(A,B,C,N,Q,R,P,vmin,vmax,ic0)"
      ],
      "execution_count": null,
      "outputs": []
    },
    {
      "cell_type": "markdown",
      "metadata": {
        "id": "19HrIv4ZW6ok"
      },
      "source": [
        "### References"
      ]
    },
    {
      "cell_type": "code",
      "metadata": {
        "id": "KVuKqxy7umEN"
      },
      "source": [
        "# References\n",
        "\n",
        "us=np.array([[183.5],[146]])\n",
        "xs=np.matrix([[410],[380]])\n",
        "Us=np.kron(np.ones((N,1)),us)             # Vector de referencia constante para N instantes\n",
        "um1=us                                # Valor del control al instante -1\n",
        "x0=np.array([[380],[320]])            # Condiciones iniciales\n",
        "Xe0=np.append(um1,x0,axis=0)          # Condiciones iniciales extendida con du\n",
        "Xes=np.append([[0]],xs,axis=0)          # Vector de estados extendido por restricción du"
      ],
      "execution_count": null,
      "outputs": []
    },
    {
      "cell_type": "markdown",
      "metadata": {
        "id": "e4fbyUpYXBzO"
      },
      "source": [
        "### Quadprog"
      ]
    },
    {
      "cell_type": "code",
      "metadata": {
        "id": "1TuQXoa-0R_Y"
      },
      "source": [
        "def quadprog(P, q, G=None, h=None, A=None, b=None,\n",
        "             initvals=None, verbose=True):\n",
        "    l = -np.inf * np.ones(len(h))\n",
        "    if A is not None:\n",
        "        qp_A = spa.vstack([G, A]).tocsc()\n",
        "        qp_l = np.hstack([l, b])\n",
        "        qp_u = np.hstack([h, b])\n",
        "    else:  # no equality constraint\n",
        "        qp_A = G\n",
        "        qp_l = l\n",
        "        qp_u = h\n",
        "    model = osqp.OSQP()\n",
        "    model.setup(P=P, q=q,\n",
        "                A=qp_A, l=qp_l, u=qp_u, verbose=verbose)\n",
        "    if initvals is not None:\n",
        "        model.warm_start(x=initvals)\n",
        "    results = model.solve()\n",
        "    return results.x, results.info.status"
      ],
      "execution_count": null,
      "outputs": []
    },
    {
      "cell_type": "markdown",
      "metadata": {
        "id": "-WDmttyFKgAF"
      },
      "source": [
        "### Simulation"
      ]
    },
    {
      "cell_type": "code",
      "metadata": {
        "id": "zZOBLW2b5r4r"
      },
      "source": [
        "ts=11\n",
        "time=np.arange(0,ts,tm)\n",
        "fin = len(time)\n",
        "x=x0                       # Condiciones iniciales\n",
        "Xresultado=np.array(x0)\n",
        "Uresultado=np.array(um1)\n",
        "H1 = spa.csc_matrix(H)\n",
        "G1 = spa.csc_matrix(np.append(phic,-phic,axis=0))\n",
        "q0 = np.ones(4)\n",
        "\n",
        "\n",
        "for k in range(0,fin-1):\n",
        "  Xe0=np.append(um1,x,axis=0)                   # estados actuales y control pasado\n",
        "  Xes=np.append(us,xs,axis=0)\n",
        "  f=F*(Xe0-Xes)-H*Us\n",
        "  Uopt, xx=quadprog(H1,f,G1,np.append(DeltaM-np.ravel(Lc*Xe0), -Deltam+np.ravel(Lc*Xe0),axis=0), verbose=False)\n",
        "  u=np.transpose(np.matrix(Uopt[0:2]))          #simula el controlador     \n",
        "  xsig=A*x+B*u +E*dis[:,k]                      #simula proceso real\n",
        "  x=xsig\n",
        "  um1=u;                                        #control pasado\n",
        "  Xresultado=np.append(Xresultado, x, axis = 1) #registra resultados\n",
        "  Uresultado=np.append(Uresultado, u, axis = 1)\n",
        "  \n"
      ],
      "execution_count": null,
      "outputs": []
    },
    {
      "cell_type": "markdown",
      "metadata": {
        "id": "mDTRHU8RXIGh"
      },
      "source": [
        "### Figures"
      ]
    },
    {
      "cell_type": "code",
      "metadata": {
        "colab": {
          "base_uri": "https://localhost:8080/",
          "height": 265
        },
        "id": "A1wslXbQXMU2",
        "outputId": "cab1091a-67c3-423a-a7f6-7515d5589452"
      },
      "source": [
        "plt.plot(time, np.ravel(Uresultado[0,:]))\n",
        "plt.show()"
      ],
      "execution_count": null,
      "outputs": [
        {
          "output_type": "display_data",
          "data": {
            "image/png": "[encoded data removed]",
            "text/plain": [
              "<Figure size 432x288 with 1 Axes>"
            ]
          },
          "metadata": {
            "needs_background": "light"
          }
        }
      ]
    },
    {
      "cell_type": "code",
      "metadata": {
        "colab": {
          "base_uri": "https://localhost:8080/",
          "height": 265
        },
        "id": "fUP2ejGWXeXf",
        "outputId": "60a6f41f-bf02-4bb7-ce3a-10deae5a2ead"
      },
      "source": [
        "plt.plot(time, np.ravel(Xresultado[0,:]))\n",
        "plt.show()"
      ],
      "execution_count": null,
      "outputs": [
        {
          "output_type": "display_data",
          "data": {
            "image/png": "[encoded data removed]",
            "text/plain": [
              "<Figure size 432x288 with 1 Axes>"
            ]
          },
          "metadata": {
            "needs_background": "light"
          }
        }
      ]
    },
    {
      "cell_type": "code",
      "metadata": {
        "colab": {
          "base_uri": "https://localhost:8080/",
          "height": 294
        },
        "id": "mRi3PdlEZjny",
        "outputId": "1de5a0cb-10de-45b1-cf9f-b101f913712c"
      },
      "source": [
        "fig, axs = plt.subplots(2)\n",
        "fig.suptitle('Grafica zona 1')\n",
        "axs[0].plot(time, np.ravel(Uresultado[0,:]))\n",
        "axs[1].plot(time, np.ravel(Xresultado[0,:]))\n",
        "plt.show()"
      ],
      "execution_count": null,
      "outputs": [
        {
          "output_type": "display_data",
          "data": {
            "image/png": "[encoded data removed]",
            "text/plain": [
              "<Figure size 432x288 with 2 Axes>"
            ]
          },
          "metadata": {
            "needs_background": "light"
          }
        }
      ]
    }
  ]
}