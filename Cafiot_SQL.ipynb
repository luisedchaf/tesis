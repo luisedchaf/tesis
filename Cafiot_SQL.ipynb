{
  "nbformat": 4,
  "nbformat_minor": 0,
  "metadata": {
    "colab": {
      "name": "Cafiot SQL.ipynb",
      "provenance": [],
      "include_colab_link": true
    },
    "kernelspec": {
      "name": "python3",
      "display_name": "Python 3"
    },
    "language_info": {
      "name": "python"
    }
  },
  "cells": [
    {
      "cell_type": "markdown",
      "metadata": {
        "id": "view-in-github",
        "colab_type": "text"
      },
      "source": [
        "<a href=\"https://colab.research.google.com/github/luisedchaf/tesis/blob/main/Cafiot_SQL.ipynb\" target=\"_parent\"><img src=\"https://colab.research.google.com/assets/colab-badge.svg\" alt=\"Open In Colab\"/></a>"
      ]
    },
    {
      "cell_type": "code",
      "metadata": {
        "colab": {
          "base_uri": "https://localhost:8080/"
        },
        "id": "cnTRG-HoADQ9",
        "outputId": "241a5dde-dd68-4b07-d2ae-7a2ce4578c37"
      },
      "source": [
        "!pip install psycopg2     # llamadas a bases de datod SQL\n",
        "!pip install pygresql"
      ],
      "execution_count": 1,
      "outputs": [
        {
          "output_type": "stream",
          "name": "stdout",
          "text": [
            "Requirement already satisfied: psycopg2 in /usr/local/lib/python3.7/dist-packages (2.7.6.1)\n",
            "Collecting pygresql\n",
            "  Downloading PyGreSQL-5.2.2.tar.gz (268 kB)\n",
            "\u001b[K     |████████████████████████████████| 268 kB 7.3 MB/s \n",
            "\u001b[?25hBuilding wheels for collected packages: pygresql\n",
            "  Building wheel for pygresql (setup.py) ... \u001b[?25l\u001b[?25hdone\n",
            "  Created wheel for pygresql: filename=PyGreSQL-5.2.2-cp37-cp37m-linux_x86_64.whl size=162523 sha256=fbe21519a916f6f5bcc9f7f903cb32b9b3432381cb67c8db1e070c72570e6fa7\n",
            "  Stored in directory: /root/.cache/pip/wheels/fe/9d/57/f55396a23381ca1f64ec297aeb50d854c5c9f9eae850dc2a8e\n",
            "Successfully built pygresql\n",
            "Installing collected packages: pygresql\n",
            "Successfully installed pygresql-5.2.2\n"
          ]
        }
      ]
    },
    {
      "cell_type": "code",
      "metadata": {
        "id": "4qeae2MRANqQ",
        "colab": {
          "base_uri": "https://localhost:8080/"
        },
        "outputId": "b0eca864-d1e9-4ebc-97f1-7b3c288fa3bf"
      },
      "source": [
        "import psycopg2        # llama a la libreria"
      ],
      "execution_count": 2,
      "outputs": [
        {
          "output_type": "stream",
          "name": "stderr",
          "text": [
            "/usr/local/lib/python3.7/dist-packages/psycopg2/__init__.py:144: UserWarning: The psycopg2 wheel package will be renamed from release 2.8; in order to keep installing from binary please use \"pip install psycopg2-binary\" instead. For details see: <http://initd.org/psycopg/docs/install.html#binary-install-from-pypi>.\n",
            "  \"\"\")\n"
          ]
        }
      ]
    },
    {
      "cell_type": "code",
      "metadata": {
        "id": "y2GRBmTdHWJ4"
      },
      "source": [
        "import pandas as pd\n",
        "def run_query(query=''):\n",
        "  DB_HOST = '192.68.185.26' \n",
        "  DB_USER = 'inv_luis_eduardo' \n",
        "  DB_PASS = '12345678*aA' \n",
        "  DB_NAME = 'cafiot' \n",
        "  conexion = psycopg2.connect(host=DB_HOST, database=DB_NAME, user=DB_USER, password=DB_PASS)\n",
        "  df = pd.read_sql(query,conexion)  # data frame\n",
        "  conexion.close()\n",
        "  return df"
      ],
      "execution_count": 3,
      "outputs": []
    },
    {
      "cell_type": "code",
      "metadata": {
        "id": "S_Ub0ctLyRPk",
        "colab": {
          "base_uri": "https://localhost:8080/",
          "height": 80
        },
        "outputId": "5f7683cf-a51b-468e-e50a-5906cad0457c"
      },
      "source": [
        "consulta = \"\"\"\n",
        "--SELECT valor1, fecha, topic, s.nombre, key, observacion, color, valor_max, valor_min, tm.nombre, um.nombre\n",
        "SELECT AVG(valor1)\n",
        "FROM mediciones AS m \n",
        "INNER JOIN sensores AS s\n",
        "ON s.id = m.id_sensor \n",
        "INNER JOIN tipos_mediciones AS tm \n",
        "ON tm.id = s.id_tipo_medicion\n",
        "INNER JOIN unidades_medidas AS um \n",
        "ON tm.id_und_medida = um.id\n",
        "--WHERE key = 'd3e889f0-de68-49f7-ad4e-027440a5068d' --lluvia\n",
        "WHERE key = 'c9478c82-081b-4cbc-b296-107b971d3a18' -- Temperatura\n",
        "AND fecha BETWEEN '2021/06/24 17:00:00' AND '2021/06/24 17:01:00'\n",
        "GROUP BY key\n",
        "\"\"\"\n",
        "run_query(consulta)"
      ],
      "execution_count": 6,
      "outputs": [
        {
          "output_type": "execute_result",
          "data": {
            "text/html": [
              "<div>\n",
              "<style scoped>\n",
              "    .dataframe tbody tr th:only-of-type {\n",
              "        vertical-align: middle;\n",
              "    }\n",
              "\n",
              "    .dataframe tbody tr th {\n",
              "        vertical-align: top;\n",
              "    }\n",
              "\n",
              "    .dataframe thead th {\n",
              "        text-align: right;\n",
              "    }\n",
              "</style>\n",
              "<table border=\"1\" class=\"dataframe\">\n",
              "  <thead>\n",
              "    <tr style=\"text-align: right;\">\n",
              "      <th></th>\n",
              "      <th>avg</th>\n",
              "    </tr>\n",
              "  </thead>\n",
              "  <tbody>\n",
              "    <tr>\n",
              "      <th>0</th>\n",
              "      <td>17.9</td>\n",
              "    </tr>\n",
              "  </tbody>\n",
              "</table>\n",
              "</div>"
            ],
            "text/plain": [
              "    avg\n",
              "0  17.9"
            ]
          },
          "metadata": {},
          "execution_count": 6
        }
      ]
    },
    {
      "cell_type": "code",
      "metadata": {
        "id": "NijwfadUyZge"
      },
      "source": [
        "\n",
        "consulta = \"\"\"\n",
        "SELECT valor1, fecha, topic, s.nombre, key, observacion, color, valor_max, valor_min, tm.nombre, um.nombre\n",
        "FROM mediciones AS m \n",
        "INNER JOIN sensores AS s\n",
        "ON s.id = m.id_sensor \n",
        "INNER JOIN tipos_mediciones AS tm \n",
        "ON tm.id = s.id_tipo_medicion\n",
        "INNER JOIN unidades_medidas AS um \n",
        "ON tm.id_und_medida = um.id\n",
        "--WHERE key = 'd3e889f0-de68-49f7-ad4e-027440a5068d' --lluvia\n",
        "WHERE key = 'c9478c82-081b-4cbc-b296-107b971d3a18' -- Temperatura --TMAX TMIN TMED\n",
        "AND fecha BETWEEN '2021/06/24 17:00:00' AND '2021/06/24 18:01:00'\n",
        "\"\"\"\n",
        "DATA = run_query(consulta)"
      ],
      "execution_count": 13,
      "outputs": []
    },
    {
      "cell_type": "markdown",
      "metadata": {
        "id": "QJ-lIGY7AgE1"
      },
      "source": [
        "# Este es un titulo"
      ]
    },
    {
      "cell_type": "code",
      "metadata": {
        "colab": {
          "base_uri": "https://localhost:8080/"
        },
        "id": "r5MBqiFv7D8J",
        "outputId": "4814b148-ff83-4e06-ffeb-059ac15d6d72"
      },
      "source": [
        "DATA.shape"
      ],
      "execution_count": 12,
      "outputs": [
        {
          "output_type": "execute_result",
          "data": {
            "text/plain": [
              "valor1                                                      17.9\n",
              "fecha                                 2021-06-24 17:00:05.055000\n",
              "topic          LOMA_GORDA/Zona_Riego/c9478c82-081b-4cbc-b296-...\n",
              "nombre                                      Temperatura Ambiente\n",
              "key                         c9478c82-081b-4cbc-b296-107b971d3a18\n",
              "observacion          Temperatura ambiente estación meteorológica\n",
              "color                                                    #ac6662\n",
              "valor_max                                                     70\n",
              "valor_min                                                    -10\n",
              "nombre                                      Temperatura ambiente\n",
              "nombre                                                        °C\n",
              "Name: 1, dtype: object"
            ]
          },
          "metadata": {},
          "execution_count": 12
        }
      ]
    },
    {
      "cell_type": "code",
      "metadata": {
        "id": "BSoh-2Yq7Ful"
      },
      "source": [
        ""
      ],
      "execution_count": null,
      "outputs": []
    }
  ]
}